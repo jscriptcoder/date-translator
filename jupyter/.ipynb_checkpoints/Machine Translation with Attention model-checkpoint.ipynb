{
 "cells": [
  {
   "cell_type": "code",
   "execution_count": 1,
   "metadata": {},
   "outputs": [],
   "source": [
    "import random\n",
    "from babel.dates import format_date\n",
    "from faker import Faker"
   ]
  },
  {
   "cell_type": "code",
   "execution_count": 2,
   "metadata": {},
   "outputs": [],
   "source": [
    "fake = Faker()\n",
    "fake.seed(101)\n",
    "random.seed(101)"
   ]
  },
  {
   "cell_type": "code",
   "execution_count": 39,
   "metadata": {},
   "outputs": [],
   "source": [
    "FORMATS = ['short',\n",
    "           'medium',\n",
    "           'long',\n",
    "           'full',\n",
    "           'd MMM YYY', \n",
    "           'd MMMM YYY',\n",
    "           'dd MMM YYY',\n",
    "           'd MMM, YYY',\n",
    "           'd MMMM, YYY',\n",
    "           'dd, MMM YYY',\n",
    "           'd MM YY',\n",
    "           'd MMMM YYY',\n",
    "           'MMMM d YYY',\n",
    "           'MMMM d, YYY',\n",
    "           'dd.MM.YY',\n",
    "           'd.MM.YY',\n",
    "           'dd.MM.YYY',\n",
    "           'dd/MM/YYY',\n",
    "           'E d, MM YY',\n",
    "           'EE d, MM YYY',\n",
    "           'EEEE d, MM YY',\n",
    "           'EEEE dd, MMMM YYY',\n",
    "           'E dd, MMMM YYY']"
   ]
  },
  {
   "cell_type": "code",
   "execution_count": 40,
   "metadata": {},
   "outputs": [
    {
     "name": "stdout",
     "output_type": "stream",
     "text": [
      "5/15/15\n",
      "Jul 7, 1973\n",
      "April 21, 1988\n",
      "Monday, August 13, 2007\n",
      "5 May 2018\n",
      "30 November 1983\n",
      "17 Apr 1972\n",
      "27 Aug, 2001\n",
      "1 February, 2012\n",
      "18, Dec 1973\n",
      "26 11 70\n",
      "9 January 1998\n",
      "October 6 2000\n",
      "May 30, 2015\n",
      "27.08.88\n",
      "14.12.11\n",
      "06.10.1979\n",
      "03/03/2003\n",
      "Sun 7, 04 13\n",
      "Mon 11, 03 1974\n",
      "Saturday 3, 06 72\n",
      "Sunday 05, February 2017\n",
      "Sat 06, February 1988\n"
     ]
    }
   ],
   "source": [
    "for format in FORMATS:\n",
    "    print(format_date(fake.date_object(), format=format, locale='en'))"
   ]
  },
  {
   "cell_type": "code",
   "execution_count": null,
   "metadata": {},
   "outputs": [],
   "source": []
  }
 ],
 "metadata": {
  "kernelspec": {
   "display_name": "Python 3",
   "language": "python",
   "name": "python3"
  },
  "language_info": {
   "codemirror_mode": {
    "name": "ipython",
    "version": 3
   },
   "file_extension": ".py",
   "mimetype": "text/x-python",
   "name": "python",
   "nbconvert_exporter": "python",
   "pygments_lexer": "ipython3",
   "version": "3.7.0"
  }
 },
 "nbformat": 4,
 "nbformat_minor": 2
}
