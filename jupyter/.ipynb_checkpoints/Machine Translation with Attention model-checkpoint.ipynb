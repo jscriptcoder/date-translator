{
 "cells": [
  {
   "cell_type": "markdown",
   "metadata": {},
   "source": [
    "# Neural Machine Translation with Attention"
   ]
  },
  {
   "cell_type": "markdown",
   "metadata": {},
   "source": [
    "If you wanna read more about this type of Machine Translation, [Wikipedia](https://en.wikipedia.org/wiki/Neural_machine_translation) is a good source.\n",
    "\n",
    "This notebook has been inspited by the Deeplearning.ai - [Sequence models course](https://www.coursera.org/learn/nlp-sequence-models) - Attention mechanism.\n",
    "\n",
    "The idea is to build a Neural Machine Translation (NMT) model to translate human readable dates (\"10th of September, 1978\") into machine readable dates (\"1978-09-10\"), using attention model.\n",
    "\n",
    "### Attention mechanism\n",
    "If you had to translate a book's paragraph from French to English, you would not read the whole paragraph, then close the book and translate. Even during the translation process, you would read/re-read and focus on the parts of the French paragraph corresponding to the parts of the English you are writing down.\n",
    "\n",
    "The attention mechanism tells a Neural Machine Translation model where it should pay attention to at any step. [Andrew Ng](http://www.andrewng.org/) explains this mechanism quite well in these tho videos: [Attention model intuition](https://www.youtube.com/watch?v=EgCPRvgltoE) and [Attention model](https://www.youtube.com/watch?v=ahZRxHaM7gU)\n",
    " \n",
    "Here is a figure to remind you how the model works. The diagram on the left shows the attention model:\n",
    "\n",
    "<table>\n",
    "    <tbody>\n",
    "        <tr>\n",
    "            <td><img src=\"attn_model.png\" style=\"height:500px\" /></td>\n",
    "            <td><img src=\"attn_mechanism.png\" style=\"height:500px\" /></td>\n",
    "        </tr>\n",
    "    </tbody>\n",
    "</table>\n",
    "\n",
    "Here are some properties of the model: \n",
    "\n",
    "- There are two separate LSTMs in this model (see diagram on the left). Because the one at the bottom of the picture is a Bi-directional LSTM and comes *before* the attention mechanism, we will call it *pre-attention* Bi-LSTM. The LSTM at the top of the diagram comes *after* the attention mechanism, so we will call it the *post-attention* LSTM. The pre-attention Bi-LSTM goes through $T_x$ time steps; the post-attention LSTM goes through $T_y$ time steps. \n",
    "\n",
    "- The post-attention LSTM passes $s^{\\langle t \\rangle}, c^{\\langle t \\rangle}$ from one time step to the next. The LSTM has both the output activation $s^{\\langle t\\rangle}$ and the hidden cell state $c^{\\langle t\\rangle}$. In this model the post-activation LSTM at time $t$ does will not take the specific generated $y^{\\langle t-1 \\rangle}$ as input; it only takes $s^{\\langle t\\rangle}$ and $c^{\\langle t\\rangle}$ as input. We have designed the model this way, because (unlike language generation where adjacent characters are highly correlated) there isn't as strong a dependency between the previous character and the next character in a YYYY-MM-DD date. \n",
    "\n",
    "- We use $a^{\\langle t \\rangle} = [\\overrightarrow{a}^{\\langle t \\rangle}; \\overleftarrow{a}^{\\langle t \\rangle}]$ to represent the concatenation of the activations of both the forward-direction and backward-directions of the pre-attention Bi-LSTM. \n",
    "\n",
    "- The diagram on the right uses a `RepeatVector` node to copy $s^{\\langle t-1 \\rangle}$'s value $T_x$ times, and then `Concatenation` to concatenate $s^{\\langle t-1 \\rangle}$ and $a^{\\langle t \\rangle}$ to compute $e^{\\langle t, t'}$, which is then passed through a softmax to compute $\\alpha^{\\langle t, t' \\rangle}$. We'll explain how to use `RepeatVector` and `Concatenation` in Keras below. \n",
    "\n",
    "Let's begin importing the necessary packages:"
   ]
  },
  {
   "cell_type": "code",
   "execution_count": 1,
   "metadata": {},
   "outputs": [
    {
     "name": "stderr",
     "output_type": "stream",
     "text": [
      "Using TensorFlow backend.\n"
     ]
    }
   ],
   "source": [
    "from keras.layers import Bidirectional, Concatenate, Permute, Dot, Input, LSTM, Multiply\n",
    "from keras.layers import RepeatVector, Dense, Activation, Lambda\n",
    "from keras.optimizers import Adam\n",
    "from keras.utils import to_categorical\n",
    "from keras.models import load_model, Model\n",
    "import keras.backend as K\n",
    "import numpy as np\n",
    "from faker import Faker\n",
    "import random\n",
    "from tqdm import tqdm\n",
    "from babel.dates import format_date\n",
    "import matplotlib.pyplot as plt\n",
    "%matplotlib inline"
   ]
  },
  {
   "cell_type": "markdown",
   "metadata": {},
   "source": [
    "## Step1: Generate Dataset"
   ]
  },
  {
   "cell_type": "markdown",
   "metadata": {},
   "source": [
    "Following we'll use [Faker](https://pypi.org/project/Faker/) to generate our own dataset of human readable date with their iso format (machine readable date) as labels."
   ]
  },
  {
   "cell_type": "code",
   "execution_count": 2,
   "metadata": {},
   "outputs": [],
   "source": [
    "fake = Faker()\n",
    "\n",
    "# We need to seed these guys. For some reason I always use 101\n",
    "fake.seed(101)\n",
    "random.seed(101)"
   ]
  },
  {
   "cell_type": "markdown",
   "metadata": {},
   "source": [
    "We're gonna generate a dataset with different formats. In this case I'm giving more chances to the most humman readable formats."
   ]
  },
  {
   "cell_type": "code",
   "execution_count": 3,
   "metadata": {},
   "outputs": [],
   "source": [
    "FORMATS = ['short', # d/M/YY\n",
    "           'medium', # MMM d, YYY\n",
    "           'medium',\n",
    "           'medium',\n",
    "           'long', # MMMM dd, YYY\n",
    "           'long',\n",
    "           'long',\n",
    "           'long',\n",
    "           'long',\n",
    "           'full', # EEEE, MMM dd, YYY\n",
    "           'full',\n",
    "           'full',\n",
    "           'd MMM YYY', \n",
    "           'd MMMM YYY',\n",
    "           'd MMMM YYY',\n",
    "           'd MMMM YYY',\n",
    "           'd MMMM YYY',\n",
    "           'd MMMM YYY',\n",
    "           'dd/MM/YYY',\n",
    "           'EE d, MMM YYY',\n",
    "           'EEEE d, MMMM YYY']"
   ]
  },
  {
   "cell_type": "markdown",
   "metadata": {},
   "source": [
    "Let's have a look at those formats:"
   ]
  },
  {
   "cell_type": "code",
   "execution_count": 4,
   "metadata": {},
   "outputs": [
    {
     "name": "stdout",
     "output_type": "stream",
     "text": [
      "short => 7/19/09\n",
      "medium => Apr 3, 1983\n",
      "medium => Sep 11, 2006\n",
      "medium => May 29, 1994\n",
      "long => October 15, 2001\n",
      "long => April 20, 1973\n",
      "long => February 24, 2015\n",
      "long => April 7, 2004\n",
      "long => August 6, 1984\n",
      "full => Monday, December 20, 2010\n",
      "full => Friday, February 1, 1985\n",
      "full => Sunday, August 20, 1989\n",
      "d MMM YYY => 14 Jan 2003\n",
      "d MMMM YYY => 13 February 2017\n",
      "d MMMM YYY => 14 June 1984\n",
      "d MMMM YYY => 23 May 1992\n",
      "d MMMM YYY => 22 October 1999\n",
      "d MMMM YYY => 15 October 1974\n",
      "dd/MM/YYY => 16/05/1987\n",
      "EE d, MMM YYY => Sat 26, Feb 1983\n",
      "EEEE d, MMMM YYY => Wednesday 17, December 1980\n"
     ]
    }
   ],
   "source": [
    "for format in FORMATS:\n",
    "    print('%s => %s' %(format, format_date(fake.date_object(), format=format, locale='en')))"
   ]
  },
  {
   "cell_type": "markdown",
   "metadata": {},
   "source": [
    "`random_date()` will generate a random date using a random format picked from our list `FORMATS` defined before. It'll return a tuple with the human and machine readable date plus the date object:"
   ]
  },
  {
   "cell_type": "code",
   "execution_count": 5,
   "metadata": {},
   "outputs": [],
   "source": [
    "def random_date():\n",
    "    dt = fake.date_object()\n",
    "\n",
    "    try:\n",
    "        date = format_date(dt, format=random.choice(FORMATS), locale='en')\n",
    "        human_readable = date.lower().replace(',', '')\n",
    "        machine_readable = dt.isoformat()\n",
    "\n",
    "    except AttributeError as e:\n",
    "        return None, None, None\n",
    "\n",
    "    return human_readable, machine_readable, dt"
   ]
  },
  {
   "cell_type": "markdown",
   "metadata": {},
   "source": [
    "`create_dataset(m)` will generate our dataset, taking `m` as the number of samples to create. It returns the `dataset` as a list, two dictionaries mapping index to character (these are our vocabularies), `human` and `machine`, and the inverse mapping, `inv_machine`, chars to index:"
   ]
  },
  {
   "cell_type": "code",
   "execution_count": 6,
   "metadata": {},
   "outputs": [],
   "source": [
    "def create_dataset(m):\n",
    "    human_vocab = set()\n",
    "    machine_vocab = set()\n",
    "    dataset = []\n",
    "    \n",
    "    for i in tqdm(range(m)):\n",
    "        h, m, _ = random_date()\n",
    "        if h is not None:\n",
    "            dataset.append((h, m))\n",
    "            human_vocab.update(tuple(h))\n",
    "            machine_vocab.update(tuple(m))\n",
    "    \n",
    "    # We also add two special chars, <unk> for unknown characters, and <pad> to add padding at the end\n",
    "    human = dict(zip(sorted(human_vocab) + ['<unk>', '<pad>'], list(range(len(human_vocab) + 2))))\n",
    "    inv_machine = dict(enumerate(sorted(machine_vocab)))\n",
    "    machine = {v: k for k, v in inv_machine.items()}\n",
    " \n",
    "    return dataset, human, machine, inv_machine"
   ]
  },
  {
   "cell_type": "markdown",
   "metadata": {},
   "source": [
    "Let's generate a dataset with 30k samples. That's probably way too much, but it should do a good job:"
   ]
  },
  {
   "cell_type": "code",
   "execution_count": 7,
   "metadata": {},
   "outputs": [
    {
     "name": "stderr",
     "output_type": "stream",
     "text": [
      "100%|██████████| 30000/30000 [00:01<00:00, 16483.42it/s]\n"
     ]
    }
   ],
   "source": [
    "m = 30000\n",
    "dataset, human_vocab, machine_vocab, inv_machine_vocab = create_dataset(m)"
   ]
  },
  {
   "cell_type": "markdown",
   "metadata": {},
   "source": [
    "Inspecting the first 10 entries. Remember it contains a list of tuples => (human readable, machine readable):"
   ]
  },
  {
   "cell_type": "code",
   "execution_count": 8,
   "metadata": {},
   "outputs": [
    {
     "data": {
      "text/plain": [
       "[('18/01/1976', '1976-01-18'),\n",
       " ('april 18 2000', '2000-04-18'),\n",
       " ('26 july 2006', '2006-07-26'),\n",
       " ('saturday december 10 1994', '1994-12-10'),\n",
       " ('15 january 1983', '1983-01-15'),\n",
       " ('feb 5 2002', '2002-02-05'),\n",
       " ('9 march 1992', '1992-03-09'),\n",
       " ('april 2 1986', '1986-04-02'),\n",
       " ('sat 18 may 2013', '2013-05-18'),\n",
       " ('june 26 1997', '1997-06-26')]"
      ]
     },
     "execution_count": 8,
     "metadata": {},
     "output_type": "execute_result"
    }
   ],
   "source": [
    "dataset[:10]"
   ]
  },
  {
   "cell_type": "markdown",
   "metadata": {},
   "source": [
    "Let's have a look at our human readable vocabulary:"
   ]
  },
  {
   "cell_type": "code",
   "execution_count": 9,
   "metadata": {},
   "outputs": [
    {
     "data": {
      "text/plain": [
       "{' ': 0,\n",
       " '/': 1,\n",
       " '0': 2,\n",
       " '1': 3,\n",
       " '2': 4,\n",
       " '3': 5,\n",
       " '4': 6,\n",
       " '5': 7,\n",
       " '6': 8,\n",
       " '7': 9,\n",
       " '8': 10,\n",
       " '9': 11,\n",
       " 'a': 12,\n",
       " 'b': 13,\n",
       " 'c': 14,\n",
       " 'd': 15,\n",
       " 'e': 16,\n",
       " 'f': 17,\n",
       " 'g': 18,\n",
       " 'h': 19,\n",
       " 'i': 20,\n",
       " 'j': 21,\n",
       " 'l': 22,\n",
       " 'm': 23,\n",
       " 'n': 24,\n",
       " 'o': 25,\n",
       " 'p': 26,\n",
       " 'r': 27,\n",
       " 's': 28,\n",
       " 't': 29,\n",
       " 'u': 30,\n",
       " 'v': 31,\n",
       " 'w': 32,\n",
       " 'y': 33,\n",
       " '<unk>': 34,\n",
       " '<pad>': 35}"
      ]
     },
     "execution_count": 9,
     "metadata": {},
     "output_type": "execute_result"
    }
   ],
   "source": [
    "human_vocab"
   ]
  },
  {
   "cell_type": "markdown",
   "metadata": {},
   "source": [
    "Machine readable vocabulary:"
   ]
  },
  {
   "cell_type": "code",
   "execution_count": 10,
   "metadata": {},
   "outputs": [
    {
     "data": {
      "text/plain": [
       "{'-': 0,\n",
       " '0': 1,\n",
       " '1': 2,\n",
       " '2': 3,\n",
       " '3': 4,\n",
       " '4': 5,\n",
       " '5': 6,\n",
       " '6': 7,\n",
       " '7': 8,\n",
       " '8': 9,\n",
       " '9': 10}"
      ]
     },
     "execution_count": 10,
     "metadata": {},
     "output_type": "execute_result"
    }
   ],
   "source": [
    "machine_vocab"
   ]
  },
  {
   "cell_type": "markdown",
   "metadata": {},
   "source": [
    "... and its inverse dictionary:"
   ]
  },
  {
   "cell_type": "code",
   "execution_count": 11,
   "metadata": {},
   "outputs": [
    {
     "data": {
      "text/plain": [
       "{0: '-',\n",
       " 1: '0',\n",
       " 2: '1',\n",
       " 3: '2',\n",
       " 4: '3',\n",
       " 5: '4',\n",
       " 6: '5',\n",
       " 7: '6',\n",
       " 8: '7',\n",
       " 9: '8',\n",
       " 10: '9'}"
      ]
     },
     "execution_count": 11,
     "metadata": {},
     "output_type": "execute_result"
    }
   ],
   "source": [
    "inv_machine_vocab"
   ]
  },
  {
   "cell_type": "markdown",
   "metadata": {},
   "source": [
    "## Step 2: Preprocessing"
   ]
  },
  {
   "cell_type": "markdown",
   "metadata": {},
   "source": [
    "`preprocess_data(dataset, human_vocab, machine_vocab, Tx, Ty)` is gonna do some beautiful magic with our dataset. It takes the whole dataset, and both human and machine vocabularie, plus some max length arguments, and it'll spit out out training set and target labels, plus the [one hot encoding](https://hackernoon.com/what-is-one-hot-encoding-why-and-when-do-you-have-to-use-it-e3c6186d008f) of both:"
   ]
  },
  {
   "cell_type": "code",
   "execution_count": 12,
   "metadata": {},
   "outputs": [],
   "source": [
    "def preprocess_data(dataset, human_vocab, machine_vocab, Tx, Ty):\n",
    "    X, Y = zip(*dataset)\n",
    "    \n",
    "    X = np.array([string_to_int(i, Tx, human_vocab) for i in X])\n",
    "    Y = [string_to_int(t, Ty, machine_vocab) for t in Y]\n",
    "    \n",
    "    Xoh = np.array(list(map(lambda x: to_categorical(x, num_classes=len(human_vocab)), X)))\n",
    "    Yoh = np.array(list(map(lambda x: to_categorical(x, num_classes=len(machine_vocab)), Y)))\n",
    "\n",
    "    return X, np.array(Y), Xoh, Yoh"
   ]
  },
  {
   "cell_type": "markdown",
   "metadata": {},
   "source": [
    "`string_to_int(string, length, vocab)` will return a list of indexes based on a `string` and vocabulary, `vocab`, cropping or padding it depending on the max `length` passed in:"
   ]
  },
  {
   "cell_type": "code",
   "execution_count": 13,
   "metadata": {},
   "outputs": [],
   "source": [
    "def string_to_int(string, length, vocab):\n",
    "    string = string.lower()\n",
    "    string = string.replace(',','')\n",
    "    \n",
    "    if len(string) > length:\n",
    "        string = string[:length]\n",
    "        \n",
    "    rep = list(map(lambda x: vocab.get(x, '<unk>'), string))\n",
    "    \n",
    "    if len(string) < length:\n",
    "        rep += [vocab['<pad>']] * (length - len(string))\n",
    "    \n",
    "    return rep"
   ]
  },
  {
   "cell_type": "markdown",
   "metadata": {},
   "source": [
    "Let's have a look at an example. By the way, that's my birthday 😉:"
   ]
  },
  {
   "cell_type": "code",
   "execution_count": 14,
   "metadata": {},
   "outputs": [
    {
     "data": {
      "text/plain": [
       "[28,\n",
       " 16,\n",
       " 26,\n",
       " 29,\n",
       " 16,\n",
       " 23,\n",
       " 13,\n",
       " 16,\n",
       " 27,\n",
       " 0,\n",
       " 3,\n",
       " 2,\n",
       " 0,\n",
       " 3,\n",
       " 11,\n",
       " 9,\n",
       " 10,\n",
       " 35,\n",
       " 35,\n",
       " 35,\n",
       " 35,\n",
       " 35,\n",
       " 35,\n",
       " 35,\n",
       " 35,\n",
       " 35,\n",
       " 35,\n",
       " 35,\n",
       " 35,\n",
       " 35]"
      ]
     },
     "execution_count": 14,
     "metadata": {},
     "output_type": "execute_result"
    }
   ],
   "source": [
    "string_to_int('September 10, 1978', 30, human_vocab)"
   ]
  },
  {
   "cell_type": "markdown",
   "metadata": {},
   "source": [
    "Let's run the preprocessing and print out some shapes:"
   ]
  },
  {
   "cell_type": "code",
   "execution_count": 15,
   "metadata": {},
   "outputs": [
    {
     "name": "stdout",
     "output_type": "stream",
     "text": [
      "X.shape: (30000, 30)\n",
      "Y.shape: (30000, 10)\n",
      "Xoh.shape: (30000, 30, 36)\n",
      "Yoh.shape: (30000, 10, 11)\n"
     ]
    }
   ],
   "source": [
    "Tx = 30\n",
    "Ty = 10\n",
    "X, Y, Xoh, Yoh = preprocess_data(dataset, human_vocab, machine_vocab, Tx, Ty)\n",
    "\n",
    "print(\"X.shape:\", X.shape)\n",
    "print(\"Y.shape:\", Y.shape)\n",
    "print(\"Xoh.shape:\", Xoh.shape)\n",
    "print(\"Yoh.shape:\", Yoh.shape)"
   ]
  },
  {
   "cell_type": "markdown",
   "metadata": {},
   "source": [
    "... and see what a training sample, target label and their respective one hot encoding look like:"
   ]
  },
  {
   "cell_type": "code",
   "execution_count": 16,
   "metadata": {},
   "outputs": [
    {
     "name": "stdout",
     "output_type": "stream",
     "text": [
      "Source date: 18/01/1976\n",
      "Target date: 1976-01-18\n",
      "\n",
      "Source after preprocessing (indices): [ 3 10  1  2  3  1  3 11  9  8 35 35 35 35 35 35 35 35 35 35 35 35 35 35\n",
      " 35 35 35 35 35 35]\n",
      "Target after preprocessing (indices): [ 2 10  8  7  0  1  2  0  2  9]\n",
      "\n",
      "Source after preprocessing (one-hot): [[0. 0. 0. ... 0. 0. 0.]\n",
      " [0. 0. 0. ... 0. 0. 0.]\n",
      " [0. 1. 0. ... 0. 0. 0.]\n",
      " ...\n",
      " [0. 0. 0. ... 0. 0. 1.]\n",
      " [0. 0. 0. ... 0. 0. 1.]\n",
      " [0. 0. 0. ... 0. 0. 1.]]\n",
      "Target after preprocessing (one-hot): [[0. 0. 1. 0. 0. 0. 0. 0. 0. 0. 0.]\n",
      " [0. 0. 0. 0. 0. 0. 0. 0. 0. 0. 1.]\n",
      " [0. 0. 0. 0. 0. 0. 0. 0. 1. 0. 0.]\n",
      " [0. 0. 0. 0. 0. 0. 0. 1. 0. 0. 0.]\n",
      " [1. 0. 0. 0. 0. 0. 0. 0. 0. 0. 0.]\n",
      " [0. 1. 0. 0. 0. 0. 0. 0. 0. 0. 0.]\n",
      " [0. 0. 1. 0. 0. 0. 0. 0. 0. 0. 0.]\n",
      " [1. 0. 0. 0. 0. 0. 0. 0. 0. 0. 0.]\n",
      " [0. 0. 1. 0. 0. 0. 0. 0. 0. 0. 0.]\n",
      " [0. 0. 0. 0. 0. 0. 0. 0. 0. 1. 0.]]\n"
     ]
    }
   ],
   "source": [
    "index = 0\n",
    "print(\"Source date:\", dataset[index][0])\n",
    "print(\"Target date:\", dataset[index][1])\n",
    "print()\n",
    "print(\"Source after preprocessing (indices):\", X[index])\n",
    "print(\"Target after preprocessing (indices):\", Y[index])\n",
    "print()\n",
    "print(\"Source after preprocessing (one-hot):\", Xoh[index])\n",
    "print(\"Target after preprocessing (one-hot):\", Yoh[index])"
   ]
  },
  {
   "cell_type": "markdown",
   "metadata": {},
   "source": [
    "This is what we have now:\n",
    "\n",
    "- **X**: a processed version of the human readable dates in the training set, where each character is replaced by an index mapped to the character via human_vocab. Each date is further padded to `Tx` values with a special character `<pad>`. `X.shape = (m, Tx)`\n",
    "\n",
    "- **Y**: a processed version of the machine readable dates in the training set, where each character is replaced by the index it is mapped to in machine_vocab. You should have `Y.shape = (m, Ty)`.\n",
    "\n",
    "- **Xoh**: one-hot version of X, the \"1\" entry's index is mapped to the character thanks to human_vocab. `Xoh.shape = (m, Tx, len(human_vocab))`.\n",
    "\n",
    "- **Yoh**: one-hot version of Y, the \"1\" entry's index is mapped to the character thanks to machine_vocab. `Yoh.shape = (m, Tx, len(machine_vocab))`. Here, `len(machine_vocab) = 11` since there are 11 characters ('-' as well as 0-9)."
   ]
  },
  {
   "cell_type": "markdown",
   "metadata": {},
   "source": [
    "## Step 3: Define Model"
   ]
  },
  {
   "cell_type": "markdown",
   "metadata": {},
   "source": [
    "Let's define some layers we need as global variables. [RepeatVector()](https://keras.io/layers/core/#repeatvector), [Concatenate()](https://keras.io/layers/merge/#concatenate), [Dense()](https://keras.io/layers/core/#dense), [Activation()](https://keras.io/layers/core/#activation), [Dot()](https://keras.io/layers/merge/#dot)"
   ]
  },
  {
   "cell_type": "code",
   "execution_count": 17,
   "metadata": {},
   "outputs": [],
   "source": [
    "repeator = RepeatVector(Tx)\n",
    "concatenator = Concatenate(axis=-1)\n",
    "densor1 = Dense(10, activation = \"tanh\")\n",
    "densor2 = Dense(1, activation = \"relu\")\n",
    "activator = Activation('softmax', name='attention_weights')\n",
    "dotor = Dot(axes = 1)"
   ]
  },
  {
   "cell_type": "markdown",
   "metadata": {},
   "source": [
    "`one_step_attention(a, s_prev)`: At step $t$, given all the hidden states of the Bi-LSTM ($[a^{<1>},a^{<2>}, ..., a^{<T_x>}]$) and the previous hidden state of the second LSTM ($s^{<t-1>}$), `one_step_attention()` will compute the attention weights ($[\\alpha^{<t,1>},\\alpha^{<t,2>}, ..., \\alpha^{<t,T_x>}]$) and output the context vector:\n",
    "$$context^{<t>} = \\sum_{t' = 0}^{T_x} \\alpha^{<t,t'>}a^{<t'>}\\tag{1}$$"
   ]
  },
  {
   "cell_type": "code",
   "execution_count": 18,
   "metadata": {},
   "outputs": [],
   "source": [
    "def one_step_attention(a, s_prev):\n",
    "    s_prev = repeator(s_prev)\n",
    "    concat = concatenator([a, s_prev])\n",
    "    e = densor1(concat)\n",
    "    energies = densor2(e)\n",
    "    alphas = activator(energies)\n",
    "    context = dotor([alphas, a])\n",
    "    \n",
    "    return context"
   ]
  },
  {
   "cell_type": "code",
   "execution_count": 19,
   "metadata": {},
   "outputs": [],
   "source": [
    "n_a = 32\n",
    "n_s = 64\n",
    "post_activation_LSTM_cell = LSTM(n_s, return_state = True)\n",
    "output_layer = Dense(len(machine_vocab), activation='softmax')"
   ]
  },
  {
   "cell_type": "markdown",
   "metadata": {},
   "source": [
    "`model(Tx, Ty, n_a, n_s, human_vocab_size, machine_vocab_size)`: Implements the entire model. It first runs the input through a [Bidirectional](https://keras.io/layers/wrappers/#bidirectional) [LSTM](https://keras.io/layers/recurrent/#lstm) to get back $[a^{<1>},a^{<2>}, ..., a^{<T_x>}]$. Then, it calls `one_step_attention()` $T_y$ times (`for` loop). At each iteration of this loop, it gives the computed context vector $c^{<t>}$ to the second LSTM, and runs the output of the LSTM through a dense layer with softmax activation to generate a prediction $\\hat{y}^{<t>}$. "
   ]
  },
  {
   "cell_type": "code",
   "execution_count": 20,
   "metadata": {},
   "outputs": [],
   "source": [
    "def model(Tx, Ty, n_a, n_s, human_vocab_size, machine_vocab_size):\n",
    "    X = Input(shape=(Tx, human_vocab_size))\n",
    "    s0 = Input(shape=(n_s,), name='s0')\n",
    "    c0 = Input(shape=(n_s,), name='c0')\n",
    "    s = s0\n",
    "    c = c0\n",
    "    \n",
    "    outputs = []\n",
    "    \n",
    "    a = Bidirectional(LSTM(n_a, return_sequences = True))(X)\n",
    "    \n",
    "    for t in range(Ty):\n",
    "        context = one_step_attention(a, s)\n",
    "        s, _, c = post_activation_LSTM_cell(context, initial_state=[s, c])\n",
    "        out = output_layer(s)\n",
    "        outputs.append(out)\n",
    "    \n",
    "    model = Model([X, s0, c0], outputs)\n",
    "    return model"
   ]
  },
  {
   "cell_type": "markdown",
   "metadata": {},
   "source": [
    "Model instantiation and summary representation of the model:"
   ]
  },
  {
   "cell_type": "code",
   "execution_count": 21,
   "metadata": {},
   "outputs": [],
   "source": [
    "mod = model(Tx, Ty, n_a, n_s, len(human_vocab), len(machine_vocab))"
   ]
  },
  {
   "cell_type": "code",
   "execution_count": 22,
   "metadata": {},
   "outputs": [
    {
     "name": "stdout",
     "output_type": "stream",
     "text": [
      "__________________________________________________________________________________________________\n",
      "Layer (type)                    Output Shape         Param #     Connected to                     \n",
      "==================================================================================================\n",
      "input_1 (InputLayer)            (None, 30, 36)       0                                            \n",
      "__________________________________________________________________________________________________\n",
      "s0 (InputLayer)                 (None, 64)           0                                            \n",
      "__________________________________________________________________________________________________\n",
      "bidirectional_1 (Bidirectional) (None, 30, 64)       17664       input_1[0][0]                    \n",
      "__________________________________________________________________________________________________\n",
      "repeat_vector_1 (RepeatVector)  (None, 30, 64)       0           s0[0][0]                         \n",
      "                                                                 lstm_1[0][0]                     \n",
      "                                                                 lstm_1[1][0]                     \n",
      "                                                                 lstm_1[2][0]                     \n",
      "                                                                 lstm_1[3][0]                     \n",
      "                                                                 lstm_1[4][0]                     \n",
      "                                                                 lstm_1[5][0]                     \n",
      "                                                                 lstm_1[6][0]                     \n",
      "                                                                 lstm_1[7][0]                     \n",
      "                                                                 lstm_1[8][0]                     \n",
      "__________________________________________________________________________________________________\n",
      "concatenate_1 (Concatenate)     (None, 30, 128)      0           bidirectional_1[0][0]            \n",
      "                                                                 repeat_vector_1[0][0]            \n",
      "                                                                 bidirectional_1[0][0]            \n",
      "                                                                 repeat_vector_1[1][0]            \n",
      "                                                                 bidirectional_1[0][0]            \n",
      "                                                                 repeat_vector_1[2][0]            \n",
      "                                                                 bidirectional_1[0][0]            \n",
      "                                                                 repeat_vector_1[3][0]            \n",
      "                                                                 bidirectional_1[0][0]            \n",
      "                                                                 repeat_vector_1[4][0]            \n",
      "                                                                 bidirectional_1[0][0]            \n",
      "                                                                 repeat_vector_1[5][0]            \n",
      "                                                                 bidirectional_1[0][0]            \n",
      "                                                                 repeat_vector_1[6][0]            \n",
      "                                                                 bidirectional_1[0][0]            \n",
      "                                                                 repeat_vector_1[7][0]            \n",
      "                                                                 bidirectional_1[0][0]            \n",
      "                                                                 repeat_vector_1[8][0]            \n",
      "                                                                 bidirectional_1[0][0]            \n",
      "                                                                 repeat_vector_1[9][0]            \n",
      "__________________________________________________________________________________________________\n",
      "dense_1 (Dense)                 (None, 30, 10)       1290        concatenate_1[0][0]              \n",
      "                                                                 concatenate_1[1][0]              \n",
      "                                                                 concatenate_1[2][0]              \n",
      "                                                                 concatenate_1[3][0]              \n",
      "                                                                 concatenate_1[4][0]              \n",
      "                                                                 concatenate_1[5][0]              \n",
      "                                                                 concatenate_1[6][0]              \n",
      "                                                                 concatenate_1[7][0]              \n",
      "                                                                 concatenate_1[8][0]              \n",
      "                                                                 concatenate_1[9][0]              \n",
      "__________________________________________________________________________________________________\n",
      "dense_2 (Dense)                 (None, 30, 1)        11          dense_1[0][0]                    \n",
      "                                                                 dense_1[1][0]                    \n",
      "                                                                 dense_1[2][0]                    \n",
      "                                                                 dense_1[3][0]                    \n",
      "                                                                 dense_1[4][0]                    \n",
      "                                                                 dense_1[5][0]                    \n",
      "                                                                 dense_1[6][0]                    \n",
      "                                                                 dense_1[7][0]                    \n",
      "                                                                 dense_1[8][0]                    \n",
      "                                                                 dense_1[9][0]                    \n",
      "__________________________________________________________________________________________________\n",
      "attention_weights (Activation)  (None, 30, 1)        0           dense_2[0][0]                    \n",
      "                                                                 dense_2[1][0]                    \n",
      "                                                                 dense_2[2][0]                    \n",
      "                                                                 dense_2[3][0]                    \n",
      "                                                                 dense_2[4][0]                    \n",
      "                                                                 dense_2[5][0]                    \n",
      "                                                                 dense_2[6][0]                    \n",
      "                                                                 dense_2[7][0]                    \n",
      "                                                                 dense_2[8][0]                    \n",
      "                                                                 dense_2[9][0]                    \n",
      "__________________________________________________________________________________________________\n",
      "dot_1 (Dot)                     (None, 1, 64)        0           attention_weights[0][0]          \n",
      "                                                                 bidirectional_1[0][0]            \n",
      "                                                                 attention_weights[1][0]          \n",
      "                                                                 bidirectional_1[0][0]            \n",
      "                                                                 attention_weights[2][0]          \n",
      "                                                                 bidirectional_1[0][0]            \n",
      "                                                                 attention_weights[3][0]          \n",
      "                                                                 bidirectional_1[0][0]            \n",
      "                                                                 attention_weights[4][0]          \n",
      "                                                                 bidirectional_1[0][0]            \n",
      "                                                                 attention_weights[5][0]          \n",
      "                                                                 bidirectional_1[0][0]            \n",
      "                                                                 attention_weights[6][0]          \n",
      "                                                                 bidirectional_1[0][0]            \n",
      "                                                                 attention_weights[7][0]          \n",
      "                                                                 bidirectional_1[0][0]            \n",
      "                                                                 attention_weights[8][0]          \n",
      "                                                                 bidirectional_1[0][0]            \n",
      "                                                                 attention_weights[9][0]          \n",
      "                                                                 bidirectional_1[0][0]            \n",
      "__________________________________________________________________________________________________\n",
      "c0 (InputLayer)                 (None, 64)           0                                            \n",
      "__________________________________________________________________________________________________\n",
      "lstm_1 (LSTM)                   [(None, 64), (None,  33024       dot_1[0][0]                      \n",
      "                                                                 s0[0][0]                         \n",
      "                                                                 c0[0][0]                         \n",
      "                                                                 dot_1[1][0]                      \n",
      "                                                                 lstm_1[0][0]                     \n",
      "                                                                 lstm_1[0][2]                     \n",
      "                                                                 dot_1[2][0]                      \n",
      "                                                                 lstm_1[1][0]                     \n",
      "                                                                 lstm_1[1][2]                     \n",
      "                                                                 dot_1[3][0]                      \n",
      "                                                                 lstm_1[2][0]                     \n",
      "                                                                 lstm_1[2][2]                     \n",
      "                                                                 dot_1[4][0]                      \n",
      "                                                                 lstm_1[3][0]                     \n",
      "                                                                 lstm_1[3][2]                     \n",
      "                                                                 dot_1[5][0]                      \n",
      "                                                                 lstm_1[4][0]                     \n",
      "                                                                 lstm_1[4][2]                     \n",
      "                                                                 dot_1[6][0]                      \n",
      "                                                                 lstm_1[5][0]                     \n",
      "                                                                 lstm_1[5][2]                     \n",
      "                                                                 dot_1[7][0]                      \n",
      "                                                                 lstm_1[6][0]                     \n",
      "                                                                 lstm_1[6][2]                     \n",
      "                                                                 dot_1[8][0]                      \n",
      "                                                                 lstm_1[7][0]                     \n",
      "                                                                 lstm_1[7][2]                     \n",
      "                                                                 dot_1[9][0]                      \n",
      "                                                                 lstm_1[8][0]                     \n",
      "                                                                 lstm_1[8][2]                     \n",
      "__________________________________________________________________________________________________\n",
      "dense_3 (Dense)                 (None, 11)           715         lstm_1[0][0]                     \n",
      "                                                                 lstm_1[1][0]                     \n",
      "                                                                 lstm_1[2][0]                     \n",
      "                                                                 lstm_1[3][0]                     \n",
      "                                                                 lstm_1[4][0]                     \n",
      "                                                                 lstm_1[5][0]                     \n",
      "                                                                 lstm_1[6][0]                     \n",
      "                                                                 lstm_1[7][0]                     \n",
      "                                                                 lstm_1[8][0]                     \n",
      "                                                                 lstm_1[9][0]                     \n",
      "==================================================================================================\n",
      "Total params: 52,704\n",
      "Trainable params: 52,704\n",
      "Non-trainable params: 0\n",
      "__________________________________________________________________________________________________\n"
     ]
    }
   ],
   "source": [
    "mod.summary()"
   ]
  },
  {
   "cell_type": "markdown",
   "metadata": {},
   "source": [
    "## Step 4: Train Model"
   ]
  },
  {
   "cell_type": "markdown",
   "metadata": {},
   "source": [
    "Using [Adam optimizer](https://machinelearningmastery.com/adam-optimization-algorithm-for-deep-learning/) we proceed to compile and train our model:"
   ]
  },
  {
   "cell_type": "code",
   "execution_count": 23,
   "metadata": {},
   "outputs": [],
   "source": [
    "opt = Adam(lr=0.005, beta_1=0.9, beta_2=0.999, decay=0.01)\n",
    "mod.compile(optimizer=opt, loss='categorical_crossentropy', metrics=['accuracy'])"
   ]
  },
  {
   "cell_type": "code",
   "execution_count": 24,
   "metadata": {},
   "outputs": [],
   "source": [
    "s0 = np.zeros((m, n_s))\n",
    "c0 = np.zeros((m, n_s))\n",
    "outputs = list(Yoh.swapaxes(0,1))"
   ]
  },
  {
   "cell_type": "code",
   "execution_count": 25,
   "metadata": {},
   "outputs": [
    {
     "name": "stdout",
     "output_type": "stream",
     "text": [
      "Epoch 1/30\n",
      "30000/30000 [==============================] - 49s 2ms/step - loss: 10.1373 - dense_3_loss: 1.9073 - dense_3_acc: 0.9395 - dense_3_acc_1: 0.9364 - dense_3_acc_2: 0.7474 - dense_3_acc_3: 0.3670 - dense_3_acc_4: 0.9074 - dense_3_acc_5: 0.6241 - dense_3_acc_6: 0.3347 - dense_3_acc_7: 0.8293 - dense_3_acc_8: 0.4759 - dense_3_acc_9: 0.2968\n",
      "Epoch 2/30\n",
      "30000/30000 [==============================] - 41s 1ms/step - loss: 3.4802 - dense_3_loss: 1.0036 - dense_3_acc: 0.9917 - dense_3_acc_1: 0.9926 - dense_3_acc_2: 0.8928 - dense_3_acc_3: 0.8248 - dense_3_acc_4: 0.9997 - dense_3_acc_5: 0.9765 - dense_3_acc_6: 0.7830 - dense_3_acc_7: 0.9998 - dense_3_acc_8: 0.8058 - dense_3_acc_9: 0.6294\n",
      "Epoch 3/30\n",
      "30000/30000 [==============================] - 41s 1ms/step - loss: 2.1113 - dense_3_loss: 0.6285 - dense_3_acc: 0.9934 - dense_3_acc_1: 0.9939 - dense_3_acc_2: 0.9040 - dense_3_acc_3: 0.9395 - dense_3_acc_4: 0.9999 - dense_3_acc_5: 0.9847 - dense_3_acc_6: 0.8909 - dense_3_acc_7: 0.9999 - dense_3_acc_8: 0.8668 - dense_3_acc_9: 0.7793\n",
      "Epoch 4/30\n",
      "30000/30000 [==============================] - 41s 1ms/step - loss: 1.5706 - dense_3_loss: 0.4694 - dense_3_acc: 0.9940 - dense_3_acc_1: 0.9945 - dense_3_acc_2: 0.9169 - dense_3_acc_3: 0.9618 - dense_3_acc_4: 0.9999 - dense_3_acc_5: 0.9853 - dense_3_acc_6: 0.9273 - dense_3_acc_7: 1.0000 - dense_3_acc_8: 0.9044 - dense_3_acc_9: 0.8492\n",
      "Epoch 5/30\n",
      "30000/30000 [==============================] - 41s 1ms/step - loss: 1.2789 - dense_3_loss: 0.3832 - dense_3_acc: 0.9942 - dense_3_acc_1: 0.9948 - dense_3_acc_2: 0.9336 - dense_3_acc_3: 0.9727 - dense_3_acc_4: 0.9999 - dense_3_acc_5: 0.9865 - dense_3_acc_6: 0.9426 - dense_3_acc_7: 0.9999 - dense_3_acc_8: 0.9254 - dense_3_acc_9: 0.8830\n",
      "Epoch 6/30\n",
      "30000/30000 [==============================] - 41s 1ms/step - loss: 1.0847 - dense_3_loss: 0.3299 - dense_3_acc: 0.9945 - dense_3_acc_1: 0.9950 - dense_3_acc_2: 0.9508 - dense_3_acc_3: 0.9811 - dense_3_acc_4: 1.0000 - dense_3_acc_5: 0.9879 - dense_3_acc_6: 0.9509 - dense_3_acc_7: 1.0000 - dense_3_acc_8: 0.9362 - dense_3_acc_9: 0.8990\n",
      "Epoch 7/30\n",
      "30000/30000 [==============================] - 41s 1ms/step - loss: 0.9479 - dense_3_loss: 0.2946 - dense_3_acc: 0.9947 - dense_3_acc_1: 0.9949 - dense_3_acc_2: 0.9643 - dense_3_acc_3: 0.9874 - dense_3_acc_4: 1.0000 - dense_3_acc_5: 0.9883 - dense_3_acc_6: 0.9553 - dense_3_acc_7: 0.9999 - dense_3_acc_8: 0.9426 - dense_3_acc_9: 0.9066\n",
      "Epoch 8/30\n",
      "30000/30000 [==============================] - 41s 1ms/step - loss: 0.8451 - dense_3_loss: 0.2687 - dense_3_acc: 0.9951 - dense_3_acc_1: 0.9957 - dense_3_acc_2: 0.9726 - dense_3_acc_3: 0.9907 - dense_3_acc_4: 1.0000 - dense_3_acc_5: 0.9888 - dense_3_acc_6: 0.9590 - dense_3_acc_7: 1.0000 - dense_3_acc_8: 0.9452 - dense_3_acc_9: 0.9117\n",
      "Epoch 9/30\n",
      "30000/30000 [==============================] - 41s 1ms/step - loss: 0.7679 - dense_3_loss: 0.2483 - dense_3_acc: 0.9952 - dense_3_acc_1: 0.9957 - dense_3_acc_2: 0.9779 - dense_3_acc_3: 0.9936 - dense_3_acc_4: 1.0000 - dense_3_acc_5: 0.9894 - dense_3_acc_6: 0.9613 - dense_3_acc_7: 1.0000 - dense_3_acc_8: 0.9496 - dense_3_acc_9: 0.9162\n",
      "Epoch 10/30\n",
      "30000/30000 [==============================] - 41s 1ms/step - loss: 0.7081 - dense_3_loss: 0.2333 - dense_3_acc: 0.9954 - dense_3_acc_1: 0.9957 - dense_3_acc_2: 0.9836 - dense_3_acc_3: 0.9959 - dense_3_acc_4: 1.0000 - dense_3_acc_5: 0.9894 - dense_3_acc_6: 0.9624 - dense_3_acc_7: 1.0000 - dense_3_acc_8: 0.9527 - dense_3_acc_9: 0.9202\n",
      "Epoch 11/30\n",
      "30000/30000 [==============================] - 41s 1ms/step - loss: 0.6579 - dense_3_loss: 0.2203 - dense_3_acc: 0.9956 - dense_3_acc_1: 0.9959 - dense_3_acc_2: 0.9873 - dense_3_acc_3: 0.9970 - dense_3_acc_4: 1.0000 - dense_3_acc_5: 0.9895 - dense_3_acc_6: 0.9641 - dense_3_acc_7: 1.0000 - dense_3_acc_8: 0.9556 - dense_3_acc_9: 0.9229\n",
      "Epoch 12/30\n",
      "30000/30000 [==============================] - 41s 1ms/step - loss: 0.6144 - dense_3_loss: 0.2089 - dense_3_acc: 0.9957 - dense_3_acc_1: 0.9961 - dense_3_acc_2: 0.9908 - dense_3_acc_3: 0.9974 - dense_3_acc_4: 1.0000 - dense_3_acc_5: 0.9900 - dense_3_acc_6: 0.9642 - dense_3_acc_7: 1.0000 - dense_3_acc_8: 0.9596 - dense_3_acc_9: 0.9266\n",
      "Epoch 13/30\n",
      "30000/30000 [==============================] - 41s 1ms/step - loss: 0.5796 - dense_3_loss: 0.1994 - dense_3_acc: 0.9959 - dense_3_acc_1: 0.9962 - dense_3_acc_2: 0.9926 - dense_3_acc_3: 0.9978 - dense_3_acc_4: 1.0000 - dense_3_acc_5: 0.9904 - dense_3_acc_6: 0.9660 - dense_3_acc_7: 1.0000 - dense_3_acc_8: 0.9615 - dense_3_acc_9: 0.9281\n",
      "Epoch 14/30\n",
      "30000/30000 [==============================] - 40s 1ms/step - loss: 0.5493 - dense_3_loss: 0.1903 - dense_3_acc: 0.9960 - dense_3_acc_1: 0.9959 - dense_3_acc_2: 0.9944 - dense_3_acc_3: 0.9979 - dense_3_acc_4: 1.0000 - dense_3_acc_5: 0.9906 - dense_3_acc_6: 0.9667 - dense_3_acc_7: 1.0000 - dense_3_acc_8: 0.9636 - dense_3_acc_9: 0.9317\n",
      "Epoch 15/30\n",
      "30000/30000 [==============================] - 40s 1ms/step - loss: 0.5219 - dense_3_loss: 0.1816 - dense_3_acc: 0.9960 - dense_3_acc_1: 0.9965 - dense_3_acc_2: 0.9949 - dense_3_acc_3: 0.9985 - dense_3_acc_4: 1.0000 - dense_3_acc_5: 0.9902 - dense_3_acc_6: 0.9666 - dense_3_acc_7: 1.0000 - dense_3_acc_8: 0.9671 - dense_3_acc_9: 0.9370\n",
      "Epoch 16/30\n",
      "30000/30000 [==============================] - 40s 1ms/step - loss: 0.4982 - dense_3_loss: 0.1747 - dense_3_acc: 0.9961 - dense_3_acc_1: 0.9965 - dense_3_acc_2: 0.9950 - dense_3_acc_3: 0.9982 - dense_3_acc_4: 1.0000 - dense_3_acc_5: 0.9908 - dense_3_acc_6: 0.9683 - dense_3_acc_7: 1.0000 - dense_3_acc_8: 0.9691 - dense_3_acc_9: 0.9393\n",
      "Epoch 17/30\n",
      "30000/30000 [==============================] - 40s 1ms/step - loss: 0.4761 - dense_3_loss: 0.1677 - dense_3_acc: 0.9963 - dense_3_acc_1: 0.9965 - dense_3_acc_2: 0.9957 - dense_3_acc_3: 0.9987 - dense_3_acc_4: 1.0000 - dense_3_acc_5: 0.9908 - dense_3_acc_6: 0.9681 - dense_3_acc_7: 1.0000 - dense_3_acc_8: 0.9705 - dense_3_acc_9: 0.9426\n",
      "Epoch 18/30\n",
      "30000/30000 [==============================] - 40s 1ms/step - loss: 0.4580 - dense_3_loss: 0.1610 - dense_3_acc: 0.9965 - dense_3_acc_1: 0.9965 - dense_3_acc_2: 0.9960 - dense_3_acc_3: 0.9987 - dense_3_acc_4: 1.0000 - dense_3_acc_5: 0.9912 - dense_3_acc_6: 0.9694 - dense_3_acc_7: 1.0000 - dense_3_acc_8: 0.9731 - dense_3_acc_9: 0.9465\n",
      "Epoch 19/30\n",
      "30000/30000 [==============================] - 40s 1ms/step - loss: 0.4399 - dense_3_loss: 0.1544 - dense_3_acc: 0.9964 - dense_3_acc_1: 0.9968 - dense_3_acc_2: 0.9959 - dense_3_acc_3: 0.9988 - dense_3_acc_4: 1.0000 - dense_3_acc_5: 0.9910 - dense_3_acc_6: 0.9695 - dense_3_acc_7: 1.0000 - dense_3_acc_8: 0.9748 - dense_3_acc_9: 0.9498\n",
      "Epoch 20/30\n",
      "30000/30000 [==============================] - 40s 1ms/step - loss: 0.4231 - dense_3_loss: 0.1482 - dense_3_acc: 0.9967 - dense_3_acc_1: 0.9969 - dense_3_acc_2: 0.9965 - dense_3_acc_3: 0.9990 - dense_3_acc_4: 1.0000 - dense_3_acc_5: 0.9915 - dense_3_acc_6: 0.9696 - dense_3_acc_7: 1.0000 - dense_3_acc_8: 0.9769 - dense_3_acc_9: 0.9533\n",
      "Epoch 21/30\n",
      "30000/30000 [==============================] - 40s 1ms/step - loss: 0.4074 - dense_3_loss: 0.1418 - dense_3_acc: 0.9967 - dense_3_acc_1: 0.9970 - dense_3_acc_2: 0.9966 - dense_3_acc_3: 0.9991 - dense_3_acc_4: 1.0000 - dense_3_acc_5: 0.9916 - dense_3_acc_6: 0.9699 - dense_3_acc_7: 1.0000 - dense_3_acc_8: 0.9779 - dense_3_acc_9: 0.9563\n",
      "Epoch 22/30\n",
      "30000/30000 [==============================] - 40s 1ms/step - loss: 0.3944 - dense_3_loss: 0.1372 - dense_3_acc: 0.9968 - dense_3_acc_1: 0.9971 - dense_3_acc_2: 0.9968 - dense_3_acc_3: 0.9990 - dense_3_acc_4: 1.0000 - dense_3_acc_5: 0.9920 - dense_3_acc_6: 0.9711 - dense_3_acc_7: 1.0000 - dense_3_acc_8: 0.9799 - dense_3_acc_9: 0.9583\n",
      "Epoch 23/30\n",
      "30000/30000 [==============================] - 40s 1ms/step - loss: 0.3793 - dense_3_loss: 0.1308 - dense_3_acc: 0.9968 - dense_3_acc_1: 0.9971 - dense_3_acc_2: 0.9967 - dense_3_acc_3: 0.9992 - dense_3_acc_4: 1.0000 - dense_3_acc_5: 0.9916 - dense_3_acc_6: 0.9711 - dense_3_acc_7: 1.0000 - dense_3_acc_8: 0.9804 - dense_3_acc_9: 0.9610\n",
      "Epoch 24/30\n",
      "30000/30000 [==============================] - 40s 1ms/step - loss: 0.3679 - dense_3_loss: 0.1265 - dense_3_acc: 0.9969 - dense_3_acc_1: 0.9972 - dense_3_acc_2: 0.9969 - dense_3_acc_3: 0.9990 - dense_3_acc_4: 1.0000 - dense_3_acc_5: 0.9919 - dense_3_acc_6: 0.9717 - dense_3_acc_7: 1.0000 - dense_3_acc_8: 0.9814 - dense_3_acc_9: 0.9631\n",
      "Epoch 25/30\n",
      "30000/30000 [==============================] - 40s 1ms/step - loss: 0.3560 - dense_3_loss: 0.1218 - dense_3_acc: 0.9969 - dense_3_acc_1: 0.9974 - dense_3_acc_2: 0.9972 - dense_3_acc_3: 0.9991 - dense_3_acc_4: 1.0000 - dense_3_acc_5: 0.9922 - dense_3_acc_6: 0.9719 - dense_3_acc_7: 1.0000 - dense_3_acc_8: 0.9822 - dense_3_acc_9: 0.9648\n",
      "Epoch 26/30\n",
      "30000/30000 [==============================] - 40s 1ms/step - loss: 0.3445 - dense_3_loss: 0.1171 - dense_3_acc: 0.9971 - dense_3_acc_1: 0.9975 - dense_3_acc_2: 0.9972 - dense_3_acc_3: 0.9992 - dense_3_acc_4: 1.0000 - dense_3_acc_5: 0.9920 - dense_3_acc_6: 0.9725 - dense_3_acc_7: 1.0000 - dense_3_acc_8: 0.9827 - dense_3_acc_9: 0.9670\n",
      "Epoch 27/30\n",
      "30000/30000 [==============================] - 40s 1ms/step - loss: 0.3343 - dense_3_loss: 0.1133 - dense_3_acc: 0.9971 - dense_3_acc_1: 0.9975 - dense_3_acc_2: 0.9972 - dense_3_acc_3: 0.9993 - dense_3_acc_4: 1.0000 - dense_3_acc_5: 0.9924 - dense_3_acc_6: 0.9726 - dense_3_acc_7: 1.0000 - dense_3_acc_8: 0.9836 - dense_3_acc_9: 0.9684\n",
      "Epoch 28/30\n",
      "30000/30000 [==============================] - 40s 1ms/step - loss: 0.3250 - dense_3_loss: 0.1099 - dense_3_acc: 0.9973 - dense_3_acc_1: 0.9977 - dense_3_acc_2: 0.9973 - dense_3_acc_3: 0.9993 - dense_3_acc_4: 1.0000 - dense_3_acc_5: 0.9925 - dense_3_acc_6: 0.9731 - dense_3_acc_7: 1.0000 - dense_3_acc_8: 0.9836 - dense_3_acc_9: 0.9691\n",
      "Epoch 29/30\n",
      "30000/30000 [==============================] - 40s 1ms/step - loss: 0.3166 - dense_3_loss: 0.1059 - dense_3_acc: 0.9972 - dense_3_acc_1: 0.9977 - dense_3_acc_2: 0.9973 - dense_3_acc_3: 0.9993 - dense_3_acc_4: 1.0000 - dense_3_acc_5: 0.9927 - dense_3_acc_6: 0.9732 - dense_3_acc_7: 1.0000 - dense_3_acc_8: 0.9845 - dense_3_acc_9: 0.9700\n",
      "Epoch 30/30\n",
      "30000/30000 [==============================] - 40s 1ms/step - loss: 0.3078 - dense_3_loss: 0.1028 - dense_3_acc: 0.9974 - dense_3_acc_1: 0.9979 - dense_3_acc_2: 0.9977 - dense_3_acc_3: 0.9993 - dense_3_acc_4: 1.0000 - dense_3_acc_5: 0.9930 - dense_3_acc_6: 0.9737 - dense_3_acc_7: 1.0000 - dense_3_acc_8: 0.9846 - dense_3_acc_9: 0.9713\n"
     ]
    },
    {
     "data": {
      "text/plain": [
       "<keras.callbacks.History at 0x7ff76ead6048>"
      ]
     },
     "execution_count": 25,
     "metadata": {},
     "output_type": "execute_result"
    }
   ],
   "source": [
    "mod.fit([Xoh, s0, c0], outputs, epochs=30, batch_size=100)"
   ]
  },
  {
   "cell_type": "markdown",
   "metadata": {},
   "source": [
    "## Step 5: Testing Model (optional)"
   ]
  },
  {
   "cell_type": "markdown",
   "metadata": {},
   "source": [
    "We could perform more serious testing and evaluation of the model here, but since we didn't do a proper train/test split we'll just make some predictions to see whether it gets them right:"
   ]
  },
  {
   "cell_type": "code",
   "execution_count": 26,
   "metadata": {},
   "outputs": [
    {
     "name": "stdout",
     "output_type": "stream",
     "text": [
      "source: 3 May 1979\n",
      "output: 1979-05-03\n",
      "source: 5 April 09\n",
      "output: 2009-04-05\n",
      "source: 21th of August 2016\n",
      "output: 2016-08-21\n",
      "source: Tue 10 Jul 2007\n",
      "output: 2007-07-10\n",
      "source: Saturday May 9 2018\n",
      "output: 2018-05-09\n",
      "source: March 3 2001\n",
      "output: 2001-03-03\n",
      "source: March 3rd 2001\n",
      "output: 2001-03-03\n",
      "source: 1 March 2001\n",
      "output: 2001-03-01\n"
     ]
    }
   ],
   "source": [
    "EXAMPLES = ['3 May 1979', '5 April 09', '21th of August 2016', 'Tue 10 Jul 2007', 'Saturday May 9 2018', 'March 3 2001', 'March 3rd 2001', '1 March 2001']\n",
    "for example in EXAMPLES:\n",
    "    \n",
    "    source = string_to_int(example, Tx, human_vocab)\n",
    "    source = np.array(list(map(lambda x: to_categorical(x, num_classes=len(human_vocab)), source)))\n",
    "    source = source.reshape((1, ) + source.shape)\n",
    "    prediction = mod.predict([source, s0, c0])\n",
    "    prediction = np.argmax(prediction, axis = -1)\n",
    "    output = [inv_machine_vocab[int(i)] for i in prediction]\n",
    "    \n",
    "    print(\"source:\", example)\n",
    "    print(\"output:\", ''.join(output))"
   ]
  },
  {
   "cell_type": "markdown",
   "metadata": {},
   "source": [
    "## Step 6: Save and convert Model"
   ]
  },
  {
   "cell_type": "markdown",
   "metadata": {},
   "source": [
    "Finally we save the model to be converted and used by our Frontend component using [TensorFlow.js](https://js.tensorflow.org/). Conversion will be done outside this notebook."
   ]
  },
  {
   "cell_type": "code",
   "execution_count": 27,
   "metadata": {},
   "outputs": [
    {
     "name": "stderr",
     "output_type": "stream",
     "text": [
      "/usr/local/lib/python3.6/site-packages/keras/engine/network.py:872: UserWarning: Layer lstm_1 was passed non-serializable keyword arguments: {'initial_state': [<tf.Tensor 's0:0' shape=(?, 64) dtype=float32>, <tf.Tensor 'c0:0' shape=(?, 64) dtype=float32>]}. They will not be included in the serialized model (and thus will be missing at deserialization time).\n",
      "  '. They will not be included '\n",
      "/usr/local/lib/python3.6/site-packages/keras/engine/network.py:872: UserWarning: Layer lstm_1 was passed non-serializable keyword arguments: {'initial_state': [<tf.Tensor 'lstm_1/TensorArrayReadV3:0' shape=(?, 64) dtype=float32>, <tf.Tensor 'lstm_1/while/Exit_4:0' shape=(?, 64) dtype=float32>]}. They will not be included in the serialized model (and thus will be missing at deserialization time).\n",
      "  '. They will not be included '\n",
      "/usr/local/lib/python3.6/site-packages/keras/engine/network.py:872: UserWarning: Layer lstm_1 was passed non-serializable keyword arguments: {'initial_state': [<tf.Tensor 'lstm_1_1/TensorArrayReadV3:0' shape=(?, 64) dtype=float32>, <tf.Tensor 'lstm_1_1/while/Exit_4:0' shape=(?, 64) dtype=float32>]}. They will not be included in the serialized model (and thus will be missing at deserialization time).\n",
      "  '. They will not be included '\n",
      "/usr/local/lib/python3.6/site-packages/keras/engine/network.py:872: UserWarning: Layer lstm_1 was passed non-serializable keyword arguments: {'initial_state': [<tf.Tensor 'lstm_1_2/TensorArrayReadV3:0' shape=(?, 64) dtype=float32>, <tf.Tensor 'lstm_1_2/while/Exit_4:0' shape=(?, 64) dtype=float32>]}. They will not be included in the serialized model (and thus will be missing at deserialization time).\n",
      "  '. They will not be included '\n",
      "/usr/local/lib/python3.6/site-packages/keras/engine/network.py:872: UserWarning: Layer lstm_1 was passed non-serializable keyword arguments: {'initial_state': [<tf.Tensor 'lstm_1_3/TensorArrayReadV3:0' shape=(?, 64) dtype=float32>, <tf.Tensor 'lstm_1_3/while/Exit_4:0' shape=(?, 64) dtype=float32>]}. They will not be included in the serialized model (and thus will be missing at deserialization time).\n",
      "  '. They will not be included '\n",
      "/usr/local/lib/python3.6/site-packages/keras/engine/network.py:872: UserWarning: Layer lstm_1 was passed non-serializable keyword arguments: {'initial_state': [<tf.Tensor 'lstm_1_4/TensorArrayReadV3:0' shape=(?, 64) dtype=float32>, <tf.Tensor 'lstm_1_4/while/Exit_4:0' shape=(?, 64) dtype=float32>]}. They will not be included in the serialized model (and thus will be missing at deserialization time).\n",
      "  '. They will not be included '\n",
      "/usr/local/lib/python3.6/site-packages/keras/engine/network.py:872: UserWarning: Layer lstm_1 was passed non-serializable keyword arguments: {'initial_state': [<tf.Tensor 'lstm_1_5/TensorArrayReadV3:0' shape=(?, 64) dtype=float32>, <tf.Tensor 'lstm_1_5/while/Exit_4:0' shape=(?, 64) dtype=float32>]}. They will not be included in the serialized model (and thus will be missing at deserialization time).\n",
      "  '. They will not be included '\n",
      "/usr/local/lib/python3.6/site-packages/keras/engine/network.py:872: UserWarning: Layer lstm_1 was passed non-serializable keyword arguments: {'initial_state': [<tf.Tensor 'lstm_1_6/TensorArrayReadV3:0' shape=(?, 64) dtype=float32>, <tf.Tensor 'lstm_1_6/while/Exit_4:0' shape=(?, 64) dtype=float32>]}. They will not be included in the serialized model (and thus will be missing at deserialization time).\n",
      "  '. They will not be included '\n",
      "/usr/local/lib/python3.6/site-packages/keras/engine/network.py:872: UserWarning: Layer lstm_1 was passed non-serializable keyword arguments: {'initial_state': [<tf.Tensor 'lstm_1_7/TensorArrayReadV3:0' shape=(?, 64) dtype=float32>, <tf.Tensor 'lstm_1_7/while/Exit_4:0' shape=(?, 64) dtype=float32>]}. They will not be included in the serialized model (and thus will be missing at deserialization time).\n",
      "  '. They will not be included '\n",
      "/usr/local/lib/python3.6/site-packages/keras/engine/network.py:872: UserWarning: Layer lstm_1 was passed non-serializable keyword arguments: {'initial_state': [<tf.Tensor 'lstm_1_8/TensorArrayReadV3:0' shape=(?, 64) dtype=float32>, <tf.Tensor 'lstm_1_8/while/Exit_4:0' shape=(?, 64) dtype=float32>]}. They will not be included in the serialized model (and thus will be missing at deserialization time).\n",
      "  '. They will not be included '\n"
     ]
    }
   ],
   "source": [
    "mod.save('dates_model.h5')"
   ]
  },
  {
   "cell_type": "code",
   "execution_count": null,
   "metadata": {},
   "outputs": [],
   "source": []
  }
 ],
 "metadata": {
  "kernelspec": {
   "display_name": "Python 3",
   "language": "python",
   "name": "python3"
  },
  "language_info": {
   "codemirror_mode": {
    "name": "ipython",
    "version": 3
   },
   "file_extension": ".py",
   "mimetype": "text/x-python",
   "name": "python",
   "nbconvert_exporter": "python",
   "pygments_lexer": "ipython3",
   "version": "3.6.6"
  }
 },
 "nbformat": 4,
 "nbformat_minor": 2
}
