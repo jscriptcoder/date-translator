{
 "cells": [
  {
   "cell_type": "markdown",
   "metadata": {},
   "source": [
    "# Neural Machine Translation with Attention"
   ]
  },
  {
   "cell_type": "markdown",
   "metadata": {},
   "source": [
    "If you wanna read more about this type of Machine Translation, [Wikipedia](https://en.wikipedia.org/wiki/Neural_machine_translation) is a good source.\n",
    "\n",
    "This notebook has been inspited by the Deeplearning.ai - [Sequence models course](https://www.coursera.org/learn/nlp-sequence-models) - Attention mechanism.\n",
    "\n",
    "The idea is to build a Neural Machine Translation (NMT) model to translate human readable dates (\"10th of September, 1978\") into machine readable dates (\"1978-09-10\"), using attention model.\n",
    "\n",
    "### Attention mechanism\n",
    "If you had to translate a book's paragraph from French to English, you would not read the whole paragraph, then close the book and translate. Even during the translation process, you would read/re-read and focus on the parts of the French paragraph corresponding to the parts of the English you are writing down.\n",
    "\n",
    "The attention mechanism tells a Neural Machine Translation model where it should pay attention to at any step. [Andrew Ng](http://www.andrewng.org/) explains this mechanism quite well in these tho videos: [Attention model intuition](https://www.youtube.com/watch?v=EgCPRvgltoE) and [Attention model](https://www.youtube.com/watch?v=ahZRxHaM7gU)\n",
    " \n",
    "Here is a figure to remind you how the model works. The diagram on the left shows the attention model:\n",
    "\n",
    "<table>\n",
    "    <tbody>\n",
    "        <tr>\n",
    "            <td><img src=\"attn_model.png\" style=\"height:500px\" /></td>\n",
    "            <td><img src=\"attn_mechanism.png\" style=\"height:500px\" /></td>\n",
    "        </tr>\n",
    "    </tbody>\n",
    "</table>\n",
    "\n",
    "Here are some properties of the model: \n",
    "\n",
    "- There are two separate LSTMs in this model (see diagram on the left). Because the one at the bottom of the picture is a Bi-directional LSTM and comes *before* the attention mechanism, we will call it *pre-attention* Bi-LSTM. The LSTM at the top of the diagram comes *after* the attention mechanism, so we will call it the *post-attention* LSTM. The pre-attention Bi-LSTM goes through $T_x$ time steps; the post-attention LSTM goes through $T_y$ time steps. \n",
    "\n",
    "- The post-attention LSTM passes $s^{\\langle t \\rangle}, c^{\\langle t \\rangle}$ from one time step to the next. The LSTM has both the output activation $s^{\\langle t\\rangle}$ and the hidden cell state $c^{\\langle t\\rangle}$. In this model the post-activation LSTM at time $t$ does will not take the specific generated $y^{\\langle t-1 \\rangle}$ as input; it only takes $s^{\\langle t\\rangle}$ and $c^{\\langle t\\rangle}$ as input. We have designed the model this way, because (unlike language generation where adjacent characters are highly correlated) there isn't as strong a dependency between the previous character and the next character in a YYYY-MM-DD date. \n",
    "\n",
    "- We use $a^{\\langle t \\rangle} = [\\overrightarrow{a}^{\\langle t \\rangle}; \\overleftarrow{a}^{\\langle t \\rangle}]$ to represent the concatenation of the activations of both the forward-direction and backward-directions of the pre-attention Bi-LSTM. \n",
    "\n",
    "- The diagram on the right uses a `RepeatVector` node to copy $s^{\\langle t-1 \\rangle}$'s value $T_x$ times, and then `Concatenation` to concatenate $s^{\\langle t-1 \\rangle}$ and $a^{\\langle t \\rangle}$ to compute $e^{\\langle t, t'}$, which is then passed through a softmax to compute $\\alpha^{\\langle t, t' \\rangle}$. We'll explain how to use `RepeatVector` and `Concatenation` in Keras below. \n",
    "\n",
    "Let's begin importing the necessary packages:"
   ]
  },
  {
   "cell_type": "code",
   "execution_count": 1,
   "metadata": {},
   "outputs": [
    {
     "name": "stderr",
     "output_type": "stream",
     "text": [
      "Using TensorFlow backend.\n"
     ]
    }
   ],
   "source": [
    "from keras.layers import Bidirectional, Concatenate, Permute, Dot, Input, LSTM, Multiply\n",
    "from keras.layers import RepeatVector, Dense, Activation, Lambda\n",
    "from keras.optimizers import Adam\n",
    "from keras.utils import to_categorical\n",
    "from keras.models import load_model, Model\n",
    "import keras.backend as K\n",
    "import numpy as np\n",
    "from faker import Faker\n",
    "import random\n",
    "from tqdm import tqdm\n",
    "from babel.dates import format_date\n",
    "import matplotlib.pyplot as plt\n",
    "%matplotlib inline"
   ]
  },
  {
   "cell_type": "markdown",
   "metadata": {},
   "source": [
    "Following we'll use [Faker](https://pypi.org/project/Faker/) to generate our own dataset of human readable date with their iso format (machine readable date) as labels."
   ]
  },
  {
   "cell_type": "code",
   "execution_count": 2,
   "metadata": {},
   "outputs": [],
   "source": [
    "fake = Faker()\n",
    "\n",
    "# We need to seed these guys. For some reason I always use 101\n",
    "fake.seed(101)\n",
    "random.seed(101)"
   ]
  },
  {
   "cell_type": "markdown",
   "metadata": {},
   "source": [
    "We're gonna generate a dataset with different formats. In this case I'm giving more chances to the full format, since it's the most used one."
   ]
  },
  {
   "cell_type": "code",
   "execution_count": 3,
   "metadata": {},
   "outputs": [],
   "source": [
    "FORMATS = ['short',\n",
    "           'medium',\n",
    "           'long',\n",
    "           'full',\n",
    "           'full',\n",
    "           'full',\n",
    "           'full',\n",
    "           'full',\n",
    "           'full',\n",
    "           'full',\n",
    "           'full',\n",
    "           'full',\n",
    "           'full',\n",
    "           'd MMM YYY', \n",
    "           'd MMMM YYY',\n",
    "           'dd MMM YYY',\n",
    "           'dd MMMM, YYY',\n",
    "           'MMM d YYY',\n",
    "           'MMMM d YYY',\n",
    "           'MMM dd YYY',\n",
    "           'MMMM dd YYY',\n",
    "           'd-MM-YY',\n",
    "           'd-MM-YYY',\n",
    "           'dd-MM-YY',\n",
    "           'dd-MM-YYY',\n",
    "           'EE d, MMM YYY',\n",
    "           'EE dd, MMM YYY',\n",
    "           'EEEE d, MMMM YYY',\n",
    "           'EEEE dd, MMMM YYY']"
   ]
  },
  {
   "cell_type": "markdown",
   "metadata": {},
   "source": [
    "Let's have a look at those formats:"
   ]
  },
  {
   "cell_type": "code",
   "execution_count": 4,
   "metadata": {},
   "outputs": [
    {
     "name": "stdout",
     "output_type": "stream",
     "text": [
      "short => 7/19/09\n",
      "medium => Apr 3, 1983\n",
      "long => September 11, 2006\n",
      "full => Sunday, May 29, 1994\n",
      "full => Monday, October 15, 2001\n",
      "full => Friday, April 20, 1973\n",
      "full => Tuesday, February 24, 2015\n",
      "full => Wednesday, April 7, 2004\n",
      "full => Monday, August 6, 1984\n",
      "full => Monday, December 20, 2010\n",
      "full => Friday, February 1, 1985\n",
      "full => Sunday, August 20, 1989\n",
      "full => Tuesday, January 14, 2003\n",
      "d MMM YYY => 13 Feb 2017\n",
      "d MMMM YYY => 14 June 1984\n",
      "dd MMM YYY => 23 May 1992\n",
      "dd MMMM, YYY => 22 October, 1999\n",
      "MMM d YYY => Oct 15 1974\n",
      "MMMM d YYY => May 16 1987\n",
      "MMM dd YYY => Feb 26 1983\n",
      "MMMM dd YYY => December 17 1980\n",
      "d-MM-YY => 18-01-76\n",
      "d-MM-YYY => 18-04-2000\n",
      "dd-MM-YY => 26-07-06\n",
      "dd-MM-YYY => 10-12-1994\n",
      "EE d, MMM YYY => Sat 15, Jan 1983\n",
      "EE dd, MMM YYY => Tue 05, Feb 2002\n",
      "EEEE d, MMMM YYY => Monday 9, March 1992\n",
      "EEEE dd, MMMM YYY => Wednesday 02, April 1986\n"
     ]
    }
   ],
   "source": [
    "for format in FORMATS:\n",
    "    print('%s => %s' %(format, format_date(fake.date_object(), format=format, locale='en')))"
   ]
  },
  {
   "cell_type": "markdown",
   "metadata": {},
   "source": [
    "`random_date()` will generate a random date using a random format picked from our list `FORMATS` defined before. It'll return a tuple with the human and machine readable date plus the date object:"
   ]
  },
  {
   "cell_type": "code",
   "execution_count": 5,
   "metadata": {},
   "outputs": [],
   "source": [
    "def random_date():\n",
    "    dt = fake.date_object()\n",
    "\n",
    "    try:\n",
    "        date = format_date(dt, format=random.choice(FORMATS), locale='en')\n",
    "        human_readable = date.lower().replace(',', '')\n",
    "        machine_readable = dt.isoformat()\n",
    "\n",
    "    except AttributeError as e:\n",
    "        return None, None, None\n",
    "\n",
    "    return human_readable, machine_readable, dt"
   ]
  },
  {
   "cell_type": "markdown",
   "metadata": {},
   "source": [
    "`create_dataset(m)` will generate our dataset, taking `m` as the number of samples to create. It returns the `dataset` as a list, two dictionaries mapping index to character (these are our vocabularies), `human` and `machine`, and the inverse mapping, `inv_machine`, chars to index:"
   ]
  },
  {
   "cell_type": "code",
   "execution_count": 6,
   "metadata": {},
   "outputs": [],
   "source": [
    "def create_dataset(m):\n",
    "    human_vocab = set()\n",
    "    machine_vocab = set()\n",
    "    dataset = []\n",
    "    \n",
    "    for i in tqdm(range(m)):\n",
    "        h, m, _ = random_date()\n",
    "        if h is not None:\n",
    "            dataset.append((h, m))\n",
    "            human_vocab.update(tuple(h))\n",
    "            machine_vocab.update(tuple(m))\n",
    "    \n",
    "    # We also add two special chars, <unk> for unknown characters, and <pad> to add padding at the end\n",
    "    human = dict(zip(sorted(human_vocab) + ['<unk>', '<pad>'], list(range(len(human_vocab) + 2))))\n",
    "    inv_machine = dict(enumerate(sorted(machine_vocab)))\n",
    "    machine = {v: k for k, v in inv_machine.items()}\n",
    " \n",
    "    return dataset, human, machine, inv_machine"
   ]
  },
  {
   "cell_type": "markdown",
   "metadata": {},
   "source": [
    "Let's go easy and generate a dataset with 10k samples. That should do a good job:"
   ]
  },
  {
   "cell_type": "code",
   "execution_count": 7,
   "metadata": {},
   "outputs": [
    {
     "name": "stderr",
     "output_type": "stream",
     "text": [
      "100%|██████████| 10000/10000 [00:00<00:00, 14730.49it/s]\n"
     ]
    }
   ],
   "source": [
    "m = 10000\n",
    "dataset, human_vocab, machine_vocab, inv_machine_vocab = create_dataset(m)"
   ]
  },
  {
   "cell_type": "markdown",
   "metadata": {},
   "source": [
    "Inspecting the first 10 entries. Remember it contains a list of tuples => (human readable, machine readable):"
   ]
  },
  {
   "cell_type": "code",
   "execution_count": 8,
   "metadata": {},
   "outputs": [
    {
     "data": {
      "text/plain": [
       "[('may 18 2013', '2013-05-18'),\n",
       " ('thursday 26 june 1997', '1997-06-26'),\n",
       " ('sunday september 27 1998', '1998-09-27'),\n",
       " ('mar 4 1984', '1984-03-04'),\n",
       " ('saturday april 13 1974', '1974-04-13'),\n",
       " ('10 april 1999', '1999-04-10'),\n",
       " ('oct 30 2001', '2001-10-30'),\n",
       " ('16-09-90', '1990-09-16'),\n",
       " ('30 may 1984', '1984-05-30'),\n",
       " ('saturday july 16 1977', '1977-07-16')]"
      ]
     },
     "execution_count": 8,
     "metadata": {},
     "output_type": "execute_result"
    }
   ],
   "source": [
    "dataset[:10]"
   ]
  },
  {
   "cell_type": "markdown",
   "metadata": {},
   "source": [
    "Let's have a look at our human readable vocabulary:"
   ]
  },
  {
   "cell_type": "code",
   "execution_count": 9,
   "metadata": {},
   "outputs": [
    {
     "data": {
      "text/plain": [
       "{' ': 0,\n",
       " '-': 1,\n",
       " '/': 2,\n",
       " '0': 3,\n",
       " '1': 4,\n",
       " '2': 5,\n",
       " '3': 6,\n",
       " '4': 7,\n",
       " '5': 8,\n",
       " '6': 9,\n",
       " '7': 10,\n",
       " '8': 11,\n",
       " '9': 12,\n",
       " 'a': 13,\n",
       " 'b': 14,\n",
       " 'c': 15,\n",
       " 'd': 16,\n",
       " 'e': 17,\n",
       " 'f': 18,\n",
       " 'g': 19,\n",
       " 'h': 20,\n",
       " 'i': 21,\n",
       " 'j': 22,\n",
       " 'l': 23,\n",
       " 'm': 24,\n",
       " 'n': 25,\n",
       " 'o': 26,\n",
       " 'p': 27,\n",
       " 'r': 28,\n",
       " 's': 29,\n",
       " 't': 30,\n",
       " 'u': 31,\n",
       " 'v': 32,\n",
       " 'w': 33,\n",
       " 'y': 34,\n",
       " '<unk>': 35,\n",
       " '<pad>': 36}"
      ]
     },
     "execution_count": 9,
     "metadata": {},
     "output_type": "execute_result"
    }
   ],
   "source": [
    "human_vocab"
   ]
  },
  {
   "cell_type": "markdown",
   "metadata": {},
   "source": [
    "Machine readable vocabulary:"
   ]
  },
  {
   "cell_type": "code",
   "execution_count": 10,
   "metadata": {},
   "outputs": [
    {
     "data": {
      "text/plain": [
       "{'-': 0,\n",
       " '0': 1,\n",
       " '1': 2,\n",
       " '2': 3,\n",
       " '3': 4,\n",
       " '4': 5,\n",
       " '5': 6,\n",
       " '6': 7,\n",
       " '7': 8,\n",
       " '8': 9,\n",
       " '9': 10}"
      ]
     },
     "execution_count": 10,
     "metadata": {},
     "output_type": "execute_result"
    }
   ],
   "source": [
    "machine_vocab"
   ]
  },
  {
   "cell_type": "markdown",
   "metadata": {},
   "source": [
    "... and its inverse dictionary:"
   ]
  },
  {
   "cell_type": "code",
   "execution_count": 11,
   "metadata": {},
   "outputs": [
    {
     "data": {
      "text/plain": [
       "{0: '-',\n",
       " 1: '0',\n",
       " 2: '1',\n",
       " 3: '2',\n",
       " 4: '3',\n",
       " 5: '4',\n",
       " 6: '5',\n",
       " 7: '6',\n",
       " 8: '7',\n",
       " 9: '8',\n",
       " 10: '9'}"
      ]
     },
     "execution_count": 11,
     "metadata": {},
     "output_type": "execute_result"
    }
   ],
   "source": [
    "inv_machine_vocab"
   ]
  },
  {
   "cell_type": "markdown",
   "metadata": {},
   "source": [
    "`preprocess_data(dataset, human_vocab, machine_vocab, Tx, Ty)` is gonna do some beautiful magic with our dataset. It takes the whole dataset, and both human and machine vocabularie, plus some max length arguments, and it'll spit out out training set and target labels, plus the [one hot encoding](https://hackernoon.com/what-is-one-hot-encoding-why-and-when-do-you-have-to-use-it-e3c6186d008f) of both:"
   ]
  },
  {
   "cell_type": "code",
   "execution_count": 12,
   "metadata": {},
   "outputs": [],
   "source": [
    "def preprocess_data(dataset, human_vocab, machine_vocab, Tx, Ty):\n",
    "    X, Y = zip(*dataset)\n",
    "    \n",
    "    X = np.array([string_to_int(i, Tx, human_vocab) for i in X])\n",
    "    Y = [string_to_int(t, Ty, machine_vocab) for t in Y]\n",
    "    \n",
    "    Xoh = np.array(list(map(lambda x: to_categorical(x, num_classes=len(human_vocab)), X)))\n",
    "    Yoh = np.array(list(map(lambda x: to_categorical(x, num_classes=len(machine_vocab)), Y)))\n",
    "\n",
    "    return X, np.array(Y), Xoh, Yoh"
   ]
  },
  {
   "cell_type": "markdown",
   "metadata": {},
   "source": [
    "`string_to_int(string, length, vocab)` will return a list of indexes based on a `string` and vocabulary, `vocab`, cropping or padding it depending on the max `length` passed in:"
   ]
  },
  {
   "cell_type": "code",
   "execution_count": 13,
   "metadata": {},
   "outputs": [],
   "source": [
    "def string_to_int(string, length, vocab):\n",
    "    string = string.lower()\n",
    "    string = string.replace(',','')\n",
    "    \n",
    "    if len(string) > length:\n",
    "        string = string[:length]\n",
    "        \n",
    "    rep = list(map(lambda x: vocab.get(x, '<unk>'), string))\n",
    "    \n",
    "    if len(string) < length:\n",
    "        rep += [vocab['<pad>']] * (length - len(string))\n",
    "    \n",
    "    return rep"
   ]
  },
  {
   "cell_type": "markdown",
   "metadata": {},
   "source": [
    "Let's have a look at an example. By the way, that's my birthday 😉:"
   ]
  },
  {
   "cell_type": "code",
   "execution_count": 14,
   "metadata": {},
   "outputs": [
    {
     "data": {
      "text/plain": [
       "[29,\n",
       " 17,\n",
       " 27,\n",
       " 30,\n",
       " 17,\n",
       " 24,\n",
       " 14,\n",
       " 17,\n",
       " 28,\n",
       " 0,\n",
       " 4,\n",
       " 3,\n",
       " 0,\n",
       " 4,\n",
       " 12,\n",
       " 10,\n",
       " 11,\n",
       " 36,\n",
       " 36,\n",
       " 36,\n",
       " 36,\n",
       " 36,\n",
       " 36,\n",
       " 36,\n",
       " 36,\n",
       " 36,\n",
       " 36,\n",
       " 36,\n",
       " 36,\n",
       " 36]"
      ]
     },
     "execution_count": 14,
     "metadata": {},
     "output_type": "execute_result"
    }
   ],
   "source": [
    "string_to_int('September 10, 1978', 30, human_vocab)"
   ]
  },
  {
   "cell_type": "markdown",
   "metadata": {},
   "source": [
    "Let's run the preprocessing and print out some shapes:"
   ]
  },
  {
   "cell_type": "code",
   "execution_count": 15,
   "metadata": {},
   "outputs": [
    {
     "name": "stdout",
     "output_type": "stream",
     "text": [
      "X.shape: (10000, 30)\n",
      "Y.shape: (10000, 10)\n",
      "Xoh.shape: (10000, 30, 37)\n",
      "Yoh.shape: (10000, 10, 11)\n"
     ]
    }
   ],
   "source": [
    "Tx = 30\n",
    "Ty = 10\n",
    "X, Y, Xoh, Yoh = preprocess_data(dataset, human_vocab, machine_vocab, Tx, Ty)\n",
    "\n",
    "print(\"X.shape:\", X.shape)\n",
    "print(\"Y.shape:\", Y.shape)\n",
    "print(\"Xoh.shape:\", Xoh.shape)\n",
    "print(\"Yoh.shape:\", Yoh.shape)"
   ]
  },
  {
   "cell_type": "markdown",
   "metadata": {},
   "source": [
    "... and see what a training sample, target label and their respective one hot encoding look like:"
   ]
  },
  {
   "cell_type": "code",
   "execution_count": 16,
   "metadata": {},
   "outputs": [
    {
     "name": "stdout",
     "output_type": "stream",
     "text": [
      "Source date: may 18 2013\n",
      "Target date: 2013-05-18\n",
      "\n",
      "Source after preprocessing (indices): [24 13 34  0  4 11  0  5  3  4  6 36 36 36 36 36 36 36 36 36 36 36 36 36\n",
      " 36 36 36 36 36 36]\n",
      "Target after preprocessing (indices): [3 1 2 4 0 1 6 0 2 9]\n",
      "\n",
      "Source after preprocessing (one-hot): [[0. 0. 0. ... 0. 0. 0.]\n",
      " [0. 0. 0. ... 0. 0. 0.]\n",
      " [0. 0. 0. ... 1. 0. 0.]\n",
      " ...\n",
      " [0. 0. 0. ... 0. 0. 1.]\n",
      " [0. 0. 0. ... 0. 0. 1.]\n",
      " [0. 0. 0. ... 0. 0. 1.]]\n",
      "Target after preprocessing (one-hot): [[0. 0. 0. 1. 0. 0. 0. 0. 0. 0. 0.]\n",
      " [0. 1. 0. 0. 0. 0. 0. 0. 0. 0. 0.]\n",
      " [0. 0. 1. 0. 0. 0. 0. 0. 0. 0. 0.]\n",
      " [0. 0. 0. 0. 1. 0. 0. 0. 0. 0. 0.]\n",
      " [1. 0. 0. 0. 0. 0. 0. 0. 0. 0. 0.]\n",
      " [0. 1. 0. 0. 0. 0. 0. 0. 0. 0. 0.]\n",
      " [0. 0. 0. 0. 0. 0. 1. 0. 0. 0. 0.]\n",
      " [1. 0. 0. 0. 0. 0. 0. 0. 0. 0. 0.]\n",
      " [0. 0. 1. 0. 0. 0. 0. 0. 0. 0. 0.]\n",
      " [0. 0. 0. 0. 0. 0. 0. 0. 0. 1. 0.]]\n"
     ]
    }
   ],
   "source": [
    "index = 0\n",
    "print(\"Source date:\", dataset[index][0])\n",
    "print(\"Target date:\", dataset[index][1])\n",
    "print()\n",
    "print(\"Source after preprocessing (indices):\", X[index])\n",
    "print(\"Target after preprocessing (indices):\", Y[index])\n",
    "print()\n",
    "print(\"Source after preprocessing (one-hot):\", Xoh[index])\n",
    "print(\"Target after preprocessing (one-hot):\", Yoh[index])"
   ]
  },
  {
   "cell_type": "markdown",
   "metadata": {},
   "source": [
    "This is what we have now:\n",
    "\n",
    "- **X**: a processed version of the human readable dates in the training set, where each character is replaced by an index mapped to the character via human_vocab. Each date is further padded to `Tx` values with a special character `<pad>`. `X.shape = (m, Tx)`\n",
    "\n",
    "- **Y**: a processed version of the machine readable dates in the training set, where each character is replaced by the index it is mapped to in machine_vocab. You should have `Y.shape = (m, Ty)`.\n",
    "\n",
    "- **Xoh**: one-hot version of X, the \"1\" entry's index is mapped to the character thanks to human_vocab. `Xoh.shape = (m, Tx, len(human_vocab))`.\n",
    "\n",
    "- **Yoh**: one-hot version of Y, the \"1\" entry's index is mapped to the character thanks to machine_vocab. `Yoh.shape = (m, Tx, len(machine_vocab))`. Here, `len(machine_vocab) = 11` since there are 11 characters ('-' as well as 0-9).\n",
    "\n",
    "Let's define some layers we need as global variables. [RepeatVector()](https://keras.io/layers/core/#repeatvector), [Concatenate()](https://keras.io/layers/merge/#concatenate), [Dense()](https://keras.io/layers/core/#dense), [Activation()](https://keras.io/layers/core/#activation), [Dot()](https://keras.io/layers/merge/#dot)"
   ]
  },
  {
   "cell_type": "code",
   "execution_count": 17,
   "metadata": {},
   "outputs": [],
   "source": [
    "repeator = RepeatVector(Tx)\n",
    "concatenator = Concatenate(axis=-1)\n",
    "densor1 = Dense(10, activation = \"tanh\")\n",
    "densor2 = Dense(1, activation = \"relu\")\n",
    "activator = Activation('softmax', name='attention_weights')\n",
    "dotor = Dot(axes = 1)"
   ]
  },
  {
   "cell_type": "markdown",
   "metadata": {},
   "source": [
    "`one_step_attention(a, s_prev)`: At step $t$, given all the hidden states of the Bi-LSTM ($[a^{<1>},a^{<2>}, ..., a^{<T_x>}]$) and the previous hidden state of the second LSTM ($s^{<t-1>}$), `one_step_attention()` will compute the attention weights ($[\\alpha^{<t,1>},\\alpha^{<t,2>}, ..., \\alpha^{<t,T_x>}]$) and output the context vector:\n",
    "$$context^{<t>} = \\sum_{t' = 0}^{T_x} \\alpha^{<t,t'>}a^{<t'>}\\tag{1}$$"
   ]
  },
  {
   "cell_type": "code",
   "execution_count": 18,
   "metadata": {},
   "outputs": [],
   "source": [
    "def one_step_attention(a, s_prev):\n",
    "    s_prev = repeator(s_prev)\n",
    "    concat = concatenator([a, s_prev])\n",
    "    e = densor1(concat)\n",
    "    energies = densor2(e)\n",
    "    alphas = activator(energies)\n",
    "    context = dotor([alphas, a])\n",
    "    \n",
    "    return context"
   ]
  },
  {
   "cell_type": "code",
   "execution_count": 19,
   "metadata": {},
   "outputs": [],
   "source": [
    "n_a = 32\n",
    "n_s = 64\n",
    "post_activation_LSTM_cell = LSTM(n_s, return_state = True)\n",
    "output_layer = Dense(len(machine_vocab), activation='softmax')"
   ]
  },
  {
   "cell_type": "markdown",
   "metadata": {},
   "source": [
    "`model(Tx, Ty, n_a, n_s, human_vocab_size, machine_vocab_size)`: Implements the entire model. It first runs the input through a [Bidirectional](https://keras.io/layers/wrappers/#bidirectional) [LSTM](https://keras.io/layers/recurrent/#lstm) to get back $[a^{<1>},a^{<2>}, ..., a^{<T_x>}]$. Then, it calls `one_step_attention()` $T_y$ times (`for` loop). At each iteration of this loop, it gives the computed context vector $c^{<t>}$ to the second LSTM, and runs the output of the LSTM through a dense layer with softmax activation to generate a prediction $\\hat{y}^{<t>}$. "
   ]
  },
  {
   "cell_type": "code",
   "execution_count": 20,
   "metadata": {},
   "outputs": [],
   "source": [
    "def model(Tx, Ty, n_a, n_s, human_vocab_size, machine_vocab_size):\n",
    "    X = Input(shape=(Tx, human_vocab_size))\n",
    "    s0 = Input(shape=(n_s,), name='s0')\n",
    "    c0 = Input(shape=(n_s,), name='c0')\n",
    "    s = s0\n",
    "    c = c0\n",
    "    \n",
    "    outputs = []\n",
    "    \n",
    "    a = Bidirectional(LSTM(n_a, return_sequences = True))(X)\n",
    "    \n",
    "    for t in range(Ty):\n",
    "        context = one_step_attention(a, s)\n",
    "        s, _, c = post_activation_LSTM_cell(context, initial_state=[s, c])\n",
    "        out = output_layer(s)\n",
    "        outputs.append(out)\n",
    "    \n",
    "    model = Model([X, s0, c0], outputs)\n",
    "    return model"
   ]
  },
  {
   "cell_type": "markdown",
   "metadata": {},
   "source": [
    "Model instantiation and summary representation of the model:"
   ]
  },
  {
   "cell_type": "code",
   "execution_count": 21,
   "metadata": {},
   "outputs": [],
   "source": [
    "mod = model(Tx, Ty, n_a, n_s, len(human_vocab), len(machine_vocab))"
   ]
  },
  {
   "cell_type": "code",
   "execution_count": 22,
   "metadata": {},
   "outputs": [
    {
     "name": "stdout",
     "output_type": "stream",
     "text": [
      "__________________________________________________________________________________________________\n",
      "Layer (type)                    Output Shape         Param #     Connected to                     \n",
      "==================================================================================================\n",
      "input_1 (InputLayer)            (None, 30, 37)       0                                            \n",
      "__________________________________________________________________________________________________\n",
      "s0 (InputLayer)                 (None, 64)           0                                            \n",
      "__________________________________________________________________________________________________\n",
      "bidirectional_1 (Bidirectional) (None, 30, 64)       17920       input_1[0][0]                    \n",
      "__________________________________________________________________________________________________\n",
      "repeat_vector_1 (RepeatVector)  (None, 30, 64)       0           s0[0][0]                         \n",
      "                                                                 lstm_1[0][0]                     \n",
      "                                                                 lstm_1[1][0]                     \n",
      "                                                                 lstm_1[2][0]                     \n",
      "                                                                 lstm_1[3][0]                     \n",
      "                                                                 lstm_1[4][0]                     \n",
      "                                                                 lstm_1[5][0]                     \n",
      "                                                                 lstm_1[6][0]                     \n",
      "                                                                 lstm_1[7][0]                     \n",
      "                                                                 lstm_1[8][0]                     \n",
      "__________________________________________________________________________________________________\n",
      "concatenate_1 (Concatenate)     (None, 30, 128)      0           bidirectional_1[0][0]            \n",
      "                                                                 repeat_vector_1[0][0]            \n",
      "                                                                 bidirectional_1[0][0]            \n",
      "                                                                 repeat_vector_1[1][0]            \n",
      "                                                                 bidirectional_1[0][0]            \n",
      "                                                                 repeat_vector_1[2][0]            \n",
      "                                                                 bidirectional_1[0][0]            \n",
      "                                                                 repeat_vector_1[3][0]            \n",
      "                                                                 bidirectional_1[0][0]            \n",
      "                                                                 repeat_vector_1[4][0]            \n",
      "                                                                 bidirectional_1[0][0]            \n",
      "                                                                 repeat_vector_1[5][0]            \n",
      "                                                                 bidirectional_1[0][0]            \n",
      "                                                                 repeat_vector_1[6][0]            \n",
      "                                                                 bidirectional_1[0][0]            \n",
      "                                                                 repeat_vector_1[7][0]            \n",
      "                                                                 bidirectional_1[0][0]            \n",
      "                                                                 repeat_vector_1[8][0]            \n",
      "                                                                 bidirectional_1[0][0]            \n",
      "                                                                 repeat_vector_1[9][0]            \n",
      "__________________________________________________________________________________________________\n",
      "dense_1 (Dense)                 (None, 30, 10)       1290        concatenate_1[0][0]              \n",
      "                                                                 concatenate_1[1][0]              \n",
      "                                                                 concatenate_1[2][0]              \n",
      "                                                                 concatenate_1[3][0]              \n",
      "                                                                 concatenate_1[4][0]              \n",
      "                                                                 concatenate_1[5][0]              \n",
      "                                                                 concatenate_1[6][0]              \n",
      "                                                                 concatenate_1[7][0]              \n",
      "                                                                 concatenate_1[8][0]              \n",
      "                                                                 concatenate_1[9][0]              \n",
      "__________________________________________________________________________________________________\n",
      "dense_2 (Dense)                 (None, 30, 1)        11          dense_1[0][0]                    \n",
      "                                                                 dense_1[1][0]                    \n",
      "                                                                 dense_1[2][0]                    \n",
      "                                                                 dense_1[3][0]                    \n",
      "                                                                 dense_1[4][0]                    \n",
      "                                                                 dense_1[5][0]                    \n",
      "                                                                 dense_1[6][0]                    \n",
      "                                                                 dense_1[7][0]                    \n",
      "                                                                 dense_1[8][0]                    \n",
      "                                                                 dense_1[9][0]                    \n",
      "__________________________________________________________________________________________________\n",
      "attention_weights (Activation)  (None, 30, 1)        0           dense_2[0][0]                    \n",
      "                                                                 dense_2[1][0]                    \n",
      "                                                                 dense_2[2][0]                    \n",
      "                                                                 dense_2[3][0]                    \n",
      "                                                                 dense_2[4][0]                    \n",
      "                                                                 dense_2[5][0]                    \n",
      "                                                                 dense_2[6][0]                    \n",
      "                                                                 dense_2[7][0]                    \n",
      "                                                                 dense_2[8][0]                    \n",
      "                                                                 dense_2[9][0]                    \n",
      "__________________________________________________________________________________________________\n",
      "dot_1 (Dot)                     (None, 1, 64)        0           attention_weights[0][0]          \n",
      "                                                                 bidirectional_1[0][0]            \n",
      "                                                                 attention_weights[1][0]          \n",
      "                                                                 bidirectional_1[0][0]            \n",
      "                                                                 attention_weights[2][0]          \n",
      "                                                                 bidirectional_1[0][0]            \n",
      "                                                                 attention_weights[3][0]          \n",
      "                                                                 bidirectional_1[0][0]            \n",
      "                                                                 attention_weights[4][0]          \n",
      "                                                                 bidirectional_1[0][0]            \n",
      "                                                                 attention_weights[5][0]          \n",
      "                                                                 bidirectional_1[0][0]            \n",
      "                                                                 attention_weights[6][0]          \n",
      "                                                                 bidirectional_1[0][0]            \n",
      "                                                                 attention_weights[7][0]          \n",
      "                                                                 bidirectional_1[0][0]            \n",
      "                                                                 attention_weights[8][0]          \n",
      "                                                                 bidirectional_1[0][0]            \n",
      "                                                                 attention_weights[9][0]          \n",
      "                                                                 bidirectional_1[0][0]            \n",
      "__________________________________________________________________________________________________\n",
      "c0 (InputLayer)                 (None, 64)           0                                            \n",
      "__________________________________________________________________________________________________\n",
      "lstm_1 (LSTM)                   [(None, 64), (None,  33024       dot_1[0][0]                      \n",
      "                                                                 s0[0][0]                         \n",
      "                                                                 c0[0][0]                         \n",
      "                                                                 dot_1[1][0]                      \n",
      "                                                                 lstm_1[0][0]                     \n",
      "                                                                 lstm_1[0][2]                     \n",
      "                                                                 dot_1[2][0]                      \n",
      "                                                                 lstm_1[1][0]                     \n",
      "                                                                 lstm_1[1][2]                     \n",
      "                                                                 dot_1[3][0]                      \n",
      "                                                                 lstm_1[2][0]                     \n",
      "                                                                 lstm_1[2][2]                     \n",
      "                                                                 dot_1[4][0]                      \n",
      "                                                                 lstm_1[3][0]                     \n",
      "                                                                 lstm_1[3][2]                     \n",
      "                                                                 dot_1[5][0]                      \n",
      "                                                                 lstm_1[4][0]                     \n",
      "                                                                 lstm_1[4][2]                     \n",
      "                                                                 dot_1[6][0]                      \n",
      "                                                                 lstm_1[5][0]                     \n",
      "                                                                 lstm_1[5][2]                     \n",
      "                                                                 dot_1[7][0]                      \n",
      "                                                                 lstm_1[6][0]                     \n",
      "                                                                 lstm_1[6][2]                     \n",
      "                                                                 dot_1[8][0]                      \n",
      "                                                                 lstm_1[7][0]                     \n",
      "                                                                 lstm_1[7][2]                     \n",
      "                                                                 dot_1[9][0]                      \n",
      "                                                                 lstm_1[8][0]                     \n",
      "                                                                 lstm_1[8][2]                     \n",
      "__________________________________________________________________________________________________\n",
      "dense_3 (Dense)                 (None, 11)           715         lstm_1[0][0]                     \n",
      "                                                                 lstm_1[1][0]                     \n",
      "                                                                 lstm_1[2][0]                     \n",
      "                                                                 lstm_1[3][0]                     \n",
      "                                                                 lstm_1[4][0]                     \n",
      "                                                                 lstm_1[5][0]                     \n",
      "                                                                 lstm_1[6][0]                     \n",
      "                                                                 lstm_1[7][0]                     \n",
      "                                                                 lstm_1[8][0]                     \n",
      "                                                                 lstm_1[9][0]                     \n",
      "==================================================================================================\n",
      "Total params: 52,960\n",
      "Trainable params: 52,960\n",
      "Non-trainable params: 0\n",
      "__________________________________________________________________________________________________\n"
     ]
    }
   ],
   "source": [
    "mod.summary()"
   ]
  },
  {
   "cell_type": "markdown",
   "metadata": {},
   "source": [
    "Using [Adam optimizer](https://machinelearningmastery.com/adam-optimization-algorithm-for-deep-learning/) we proceed to compile and train our model:"
   ]
  },
  {
   "cell_type": "code",
   "execution_count": 23,
   "metadata": {},
   "outputs": [],
   "source": [
    "opt = Adam(lr=0.005, beta_1=0.9, beta_2=0.999, decay=0.01)\n",
    "mod.compile(optimizer=opt, loss='categorical_crossentropy', metrics=['accuracy'])"
   ]
  },
  {
   "cell_type": "code",
   "execution_count": 24,
   "metadata": {},
   "outputs": [],
   "source": [
    "s0 = np.zeros((m, n_s))\n",
    "c0 = np.zeros((m, n_s))\n",
    "outputs = list(Yoh.swapaxes(0,1))"
   ]
  },
  {
   "cell_type": "code",
   "execution_count": 25,
   "metadata": {},
   "outputs": [
    {
     "name": "stdout",
     "output_type": "stream",
     "text": [
      "Epoch 1/30\n",
      "10000/10000 [==============================] - 23s 2ms/step - loss: 15.2894 - dense_3_loss: 2.4340 - dense_3_acc: 0.7520 - dense_3_acc_1: 0.8487 - dense_3_acc_2: 0.4732 - dense_3_acc_3: 0.1575 - dense_3_acc_4: 0.8064 - dense_3_acc_5: 0.3702 - dense_3_acc_6: 0.1315 - dense_3_acc_7: 0.7262 - dense_3_acc_8: 0.2698 - dense_3_acc_9: 0.1423\n",
      "Epoch 2/30\n",
      "10000/10000 [==============================] - 14s 1ms/step - loss: 7.3339 - dense_3_loss: 1.6648 - dense_3_acc: 0.9708 - dense_3_acc_1: 0.9708 - dense_3_acc_2: 0.7935 - dense_3_acc_3: 0.4494 - dense_3_acc_4: 0.9999 - dense_3_acc_5: 0.8416 - dense_3_acc_6: 0.4136 - dense_3_acc_7: 0.9995 - dense_3_acc_8: 0.5488 - dense_3_acc_9: 0.3529\n",
      "Epoch 3/30\n",
      "10000/10000 [==============================] - 14s 1ms/step - loss: 5.8312 - dense_3_loss: 1.4489 - dense_3_acc: 0.9766 - dense_3_acc_1: 0.9778 - dense_3_acc_2: 0.8449 - dense_3_acc_3: 0.5404 - dense_3_acc_4: 0.9999 - dense_3_acc_5: 0.9190 - dense_3_acc_6: 0.5433 - dense_3_acc_7: 0.9998 - dense_3_acc_8: 0.6406 - dense_3_acc_9: 0.4175\n",
      "Epoch 4/30\n",
      "10000/10000 [==============================] - 14s 1ms/step - loss: 4.7997 - dense_3_loss: 1.2344 - dense_3_acc: 0.9809 - dense_3_acc_1: 0.9803 - dense_3_acc_2: 0.8609 - dense_3_acc_3: 0.6500 - dense_3_acc_4: 1.0000 - dense_3_acc_5: 0.9573 - dense_3_acc_6: 0.6514 - dense_3_acc_7: 0.9998 - dense_3_acc_8: 0.7039 - dense_3_acc_9: 0.5008\n",
      "Epoch 5/30\n",
      "10000/10000 [==============================] - 14s 1ms/step - loss: 4.0526 - dense_3_loss: 1.0581 - dense_3_acc: 0.9822 - dense_3_acc_1: 0.9825 - dense_3_acc_2: 0.8731 - dense_3_acc_3: 0.7426 - dense_3_acc_4: 1.0000 - dense_3_acc_5: 0.9653 - dense_3_acc_6: 0.7264 - dense_3_acc_7: 0.9999 - dense_3_acc_8: 0.7380 - dense_3_acc_9: 0.5766\n",
      "Epoch 6/30\n",
      "10000/10000 [==============================] - 14s 1ms/step - loss: 3.5081 - dense_3_loss: 0.9217 - dense_3_acc: 0.9835 - dense_3_acc_1: 0.9840 - dense_3_acc_2: 0.8793 - dense_3_acc_3: 0.8128 - dense_3_acc_4: 1.0000 - dense_3_acc_5: 0.9677 - dense_3_acc_6: 0.7756 - dense_3_acc_7: 1.0000 - dense_3_acc_8: 0.7663 - dense_3_acc_9: 0.6411\n",
      "Epoch 7/30\n",
      "10000/10000 [==============================] - 14s 1ms/step - loss: 3.1006 - dense_3_loss: 0.8241 - dense_3_acc: 0.9837 - dense_3_acc_1: 0.9851 - dense_3_acc_2: 0.8853 - dense_3_acc_3: 0.8593 - dense_3_acc_4: 1.0000 - dense_3_acc_5: 0.9709 - dense_3_acc_6: 0.8055 - dense_3_acc_7: 1.0000 - dense_3_acc_8: 0.7856 - dense_3_acc_9: 0.6792\n",
      "Epoch 8/30\n",
      "10000/10000 [==============================] - 14s 1ms/step - loss: 2.7952 - dense_3_loss: 0.7411 - dense_3_acc: 0.9841 - dense_3_acc_1: 0.9852 - dense_3_acc_2: 0.8887 - dense_3_acc_3: 0.8877 - dense_3_acc_4: 1.0000 - dense_3_acc_5: 0.9711 - dense_3_acc_6: 0.8280 - dense_3_acc_7: 1.0000 - dense_3_acc_8: 0.7991 - dense_3_acc_9: 0.7153\n",
      "Epoch 9/30\n",
      "10000/10000 [==============================] - 14s 1ms/step - loss: 2.5382 - dense_3_loss: 0.6703 - dense_3_acc: 0.9848 - dense_3_acc_1: 0.9863 - dense_3_acc_2: 0.8913 - dense_3_acc_3: 0.9091 - dense_3_acc_4: 1.0000 - dense_3_acc_5: 0.9728 - dense_3_acc_6: 0.8451 - dense_3_acc_7: 1.0000 - dense_3_acc_8: 0.8197 - dense_3_acc_9: 0.7519\n",
      "Epoch 10/30\n",
      "10000/10000 [==============================] - 14s 1ms/step - loss: 2.3271 - dense_3_loss: 0.6126 - dense_3_acc: 0.9847 - dense_3_acc_1: 0.9860 - dense_3_acc_2: 0.8934 - dense_3_acc_3: 0.9244 - dense_3_acc_4: 1.0000 - dense_3_acc_5: 0.9738 - dense_3_acc_6: 0.8607 - dense_3_acc_7: 1.0000 - dense_3_acc_8: 0.8297 - dense_3_acc_9: 0.7779\n",
      "Epoch 11/30\n",
      "10000/10000 [==============================] - 14s 1ms/step - loss: 2.1625 - dense_3_loss: 0.5604 - dense_3_acc: 0.9854 - dense_3_acc_1: 0.9867 - dense_3_acc_2: 0.8947 - dense_3_acc_3: 0.9346 - dense_3_acc_4: 1.0000 - dense_3_acc_5: 0.9745 - dense_3_acc_6: 0.8720 - dense_3_acc_7: 1.0000 - dense_3_acc_8: 0.8415 - dense_3_acc_9: 0.7966\n",
      "Epoch 12/30\n",
      "10000/10000 [==============================] - 14s 1ms/step - loss: 2.0288 - dense_3_loss: 0.5210 - dense_3_acc: 0.9849 - dense_3_acc_1: 0.9866 - dense_3_acc_2: 0.8957 - dense_3_acc_3: 0.9370 - dense_3_acc_4: 1.0000 - dense_3_acc_5: 0.9763 - dense_3_acc_6: 0.8784 - dense_3_acc_7: 1.0000 - dense_3_acc_8: 0.8513 - dense_3_acc_9: 0.8140\n",
      "Epoch 13/30\n",
      "10000/10000 [==============================] - 14s 1ms/step - loss: 1.9096 - dense_3_loss: 0.4881 - dense_3_acc: 0.9856 - dense_3_acc_1: 0.9861 - dense_3_acc_2: 0.8972 - dense_3_acc_3: 0.9436 - dense_3_acc_4: 1.0000 - dense_3_acc_5: 0.9769 - dense_3_acc_6: 0.8870 - dense_3_acc_7: 1.0000 - dense_3_acc_8: 0.8579 - dense_3_acc_9: 0.8269\n",
      "Epoch 14/30\n",
      "10000/10000 [==============================] - 14s 1ms/step - loss: 1.8057 - dense_3_loss: 0.4567 - dense_3_acc: 0.9851 - dense_3_acc_1: 0.9866 - dense_3_acc_2: 0.9008 - dense_3_acc_3: 0.9475 - dense_3_acc_4: 1.0000 - dense_3_acc_5: 0.9765 - dense_3_acc_6: 0.8905 - dense_3_acc_7: 1.0000 - dense_3_acc_8: 0.8600 - dense_3_acc_9: 0.8390\n",
      "Epoch 15/30\n",
      "10000/10000 [==============================] - 14s 1ms/step - loss: 1.7204 - dense_3_loss: 0.4350 - dense_3_acc: 0.9870 - dense_3_acc_1: 0.9884 - dense_3_acc_2: 0.9023 - dense_3_acc_3: 0.9520 - dense_3_acc_4: 1.0000 - dense_3_acc_5: 0.9782 - dense_3_acc_6: 0.8959 - dense_3_acc_7: 1.0000 - dense_3_acc_8: 0.8702 - dense_3_acc_9: 0.8457\n",
      "Epoch 16/30\n",
      "10000/10000 [==============================] - 14s 1ms/step - loss: 1.6459 - dense_3_loss: 0.4118 - dense_3_acc: 0.9860 - dense_3_acc_1: 0.9878 - dense_3_acc_2: 0.9075 - dense_3_acc_3: 0.9527 - dense_3_acc_4: 1.0000 - dense_3_acc_5: 0.9786 - dense_3_acc_6: 0.9023 - dense_3_acc_7: 1.0000 - dense_3_acc_8: 0.8755 - dense_3_acc_9: 0.8545\n",
      "Epoch 17/30\n",
      "10000/10000 [==============================] - 14s 1ms/step - loss: 1.5738 - dense_3_loss: 0.3942 - dense_3_acc: 0.9865 - dense_3_acc_1: 0.9879 - dense_3_acc_2: 0.9072 - dense_3_acc_3: 0.9581 - dense_3_acc_4: 1.0000 - dense_3_acc_5: 0.9794 - dense_3_acc_6: 0.9056 - dense_3_acc_7: 1.0000 - dense_3_acc_8: 0.8822 - dense_3_acc_9: 0.8634\n",
      "Epoch 18/30\n",
      "10000/10000 [==============================] - 14s 1ms/step - loss: 1.5186 - dense_3_loss: 0.3783 - dense_3_acc: 0.9863 - dense_3_acc_1: 0.9876 - dense_3_acc_2: 0.9092 - dense_3_acc_3: 0.9606 - dense_3_acc_4: 1.0000 - dense_3_acc_5: 0.9799 - dense_3_acc_6: 0.9079 - dense_3_acc_7: 1.0000 - dense_3_acc_8: 0.8862 - dense_3_acc_9: 0.8673\n",
      "Epoch 19/30\n",
      "10000/10000 [==============================] - 14s 1ms/step - loss: 1.4657 - dense_3_loss: 0.3660 - dense_3_acc: 0.9868 - dense_3_acc_1: 0.9884 - dense_3_acc_2: 0.9108 - dense_3_acc_3: 0.9630 - dense_3_acc_4: 1.0000 - dense_3_acc_5: 0.9814 - dense_3_acc_6: 0.9099 - dense_3_acc_7: 1.0000 - dense_3_acc_8: 0.8887 - dense_3_acc_9: 0.8721\n",
      "Epoch 20/30\n",
      "10000/10000 [==============================] - 14s 1ms/step - loss: 1.4152 - dense_3_loss: 0.3523 - dense_3_acc: 0.9866 - dense_3_acc_1: 0.9887 - dense_3_acc_2: 0.9157 - dense_3_acc_3: 0.9625 - dense_3_acc_4: 1.0000 - dense_3_acc_5: 0.9815 - dense_3_acc_6: 0.9146 - dense_3_acc_7: 1.0000 - dense_3_acc_8: 0.8962 - dense_3_acc_9: 0.8784\n",
      "Epoch 21/30\n",
      "10000/10000 [==============================] - 14s 1ms/step - loss: 1.3638 - dense_3_loss: 0.3362 - dense_3_acc: 0.9868 - dense_3_acc_1: 0.9883 - dense_3_acc_2: 0.9174 - dense_3_acc_3: 0.9648 - dense_3_acc_4: 1.0000 - dense_3_acc_5: 0.9820 - dense_3_acc_6: 0.9167 - dense_3_acc_7: 1.0000 - dense_3_acc_8: 0.9019 - dense_3_acc_9: 0.8863\n",
      "Epoch 22/30\n",
      "10000/10000 [==============================] - 14s 1ms/step - loss: 1.3214 - dense_3_loss: 0.3265 - dense_3_acc: 0.9869 - dense_3_acc_1: 0.9890 - dense_3_acc_2: 0.9204 - dense_3_acc_3: 0.9675 - dense_3_acc_4: 1.0000 - dense_3_acc_5: 0.9831 - dense_3_acc_6: 0.9203 - dense_3_acc_7: 1.0000 - dense_3_acc_8: 0.9039 - dense_3_acc_9: 0.8894\n",
      "Epoch 23/30\n",
      "10000/10000 [==============================] - 14s 1ms/step - loss: 1.2840 - dense_3_loss: 0.3167 - dense_3_acc: 0.9870 - dense_3_acc_1: 0.9881 - dense_3_acc_2: 0.9248 - dense_3_acc_3: 0.9676 - dense_3_acc_4: 1.0000 - dense_3_acc_5: 0.9831 - dense_3_acc_6: 0.9221 - dense_3_acc_7: 1.0000 - dense_3_acc_8: 0.9116 - dense_3_acc_9: 0.8929\n",
      "Epoch 24/30\n"
     ]
    },
    {
     "name": "stdout",
     "output_type": "stream",
     "text": [
      "10000/10000 [==============================] - 14s 1ms/step - loss: 1.2471 - dense_3_loss: 0.3063 - dense_3_acc: 0.9875 - dense_3_acc_1: 0.9889 - dense_3_acc_2: 0.9265 - dense_3_acc_3: 0.9699 - dense_3_acc_4: 1.0000 - dense_3_acc_5: 0.9847 - dense_3_acc_6: 0.9232 - dense_3_acc_7: 1.0000 - dense_3_acc_8: 0.9124 - dense_3_acc_9: 0.8998\n",
      "Epoch 25/30\n",
      "10000/10000 [==============================] - 14s 1ms/step - loss: 1.2160 - dense_3_loss: 0.2994 - dense_3_acc: 0.9872 - dense_3_acc_1: 0.9887 - dense_3_acc_2: 0.9313 - dense_3_acc_3: 0.9721 - dense_3_acc_4: 1.0000 - dense_3_acc_5: 0.9846 - dense_3_acc_6: 0.9252 - dense_3_acc_7: 1.0000 - dense_3_acc_8: 0.9159 - dense_3_acc_9: 0.9025\n",
      "Epoch 26/30\n",
      "10000/10000 [==============================] - 14s 1ms/step - loss: 1.1765 - dense_3_loss: 0.2889 - dense_3_acc: 0.9875 - dense_3_acc_1: 0.9900 - dense_3_acc_2: 0.9336 - dense_3_acc_3: 0.9736 - dense_3_acc_4: 1.0000 - dense_3_acc_5: 0.9846 - dense_3_acc_6: 0.9277 - dense_3_acc_7: 1.0000 - dense_3_acc_8: 0.9221 - dense_3_acc_9: 0.9064\n",
      "Epoch 27/30\n",
      "10000/10000 [==============================] - 14s 1ms/step - loss: 1.1451 - dense_3_loss: 0.2801 - dense_3_acc: 0.9874 - dense_3_acc_1: 0.9899 - dense_3_acc_2: 0.9354 - dense_3_acc_3: 0.9739 - dense_3_acc_4: 1.0000 - dense_3_acc_5: 0.9851 - dense_3_acc_6: 0.9287 - dense_3_acc_7: 1.0000 - dense_3_acc_8: 0.9238 - dense_3_acc_9: 0.9105\n",
      "Epoch 28/30\n",
      "10000/10000 [==============================] - 14s 1ms/step - loss: 1.1175 - dense_3_loss: 0.2751 - dense_3_acc: 0.9879 - dense_3_acc_1: 0.9889 - dense_3_acc_2: 0.9381 - dense_3_acc_3: 0.9747 - dense_3_acc_4: 1.0000 - dense_3_acc_5: 0.9859 - dense_3_acc_6: 0.9303 - dense_3_acc_7: 1.0000 - dense_3_acc_8: 0.9262 - dense_3_acc_9: 0.9131\n",
      "Epoch 29/30\n",
      "10000/10000 [==============================] - 14s 1ms/step - loss: 1.0902 - dense_3_loss: 0.2675 - dense_3_acc: 0.9873 - dense_3_acc_1: 0.9892 - dense_3_acc_2: 0.9407 - dense_3_acc_3: 0.9761 - dense_3_acc_4: 1.0000 - dense_3_acc_5: 0.9861 - dense_3_acc_6: 0.9311 - dense_3_acc_7: 1.0000 - dense_3_acc_8: 0.9296 - dense_3_acc_9: 0.9165\n",
      "Epoch 30/30\n",
      "10000/10000 [==============================] - 14s 1ms/step - loss: 1.0620 - dense_3_loss: 0.2612 - dense_3_acc: 0.9877 - dense_3_acc_1: 0.9892 - dense_3_acc_2: 0.9431 - dense_3_acc_3: 0.9779 - dense_3_acc_4: 1.0000 - dense_3_acc_5: 0.9868 - dense_3_acc_6: 0.9321 - dense_3_acc_7: 1.0000 - dense_3_acc_8: 0.9332 - dense_3_acc_9: 0.9166\n"
     ]
    },
    {
     "data": {
      "text/plain": [
       "<keras.callbacks.History at 0x7f0e9078b470>"
      ]
     },
     "execution_count": 25,
     "metadata": {},
     "output_type": "execute_result"
    }
   ],
   "source": [
    "mod.fit([Xoh, s0, c0], outputs, epochs=30, batch_size=100)"
   ]
  },
  {
   "cell_type": "markdown",
   "metadata": {},
   "source": [
    "Let's make some predictions to see whether it gets them right:"
   ]
  },
  {
   "cell_type": "code",
   "execution_count": 26,
   "metadata": {},
   "outputs": [
    {
     "name": "stdout",
     "output_type": "stream",
     "text": [
      "source: 3 May 1979\n",
      "output: 1999-05-03\n",
      "source: 5 April 09\n",
      "output: 2009-04-05\n",
      "source: 21th of August 2016\n",
      "output: 2016-08-21\n",
      "source: Tue 10 Jul 2007\n",
      "output: 2007-07-11\n",
      "source: Saturday May 9 2018\n",
      "output: 2018-05-09\n",
      "source: March 3 2001\n",
      "output: 2011-03-03\n",
      "source: March 3rd 2001\n",
      "output: 2011-03-03\n",
      "source: 1 March 2001\n",
      "output: 2011-03-01\n"
     ]
    }
   ],
   "source": [
    "EXAMPLES = ['3 May 1979', '5 April 09', '21th of August 2016', 'Tue 10 Jul 2007', 'Saturday May 9 2018', 'March 3 2001', 'March 3rd 2001', '1 March 2001']\n",
    "for example in EXAMPLES:\n",
    "    \n",
    "    source = string_to_int(example, Tx, human_vocab)\n",
    "    source = np.array(list(map(lambda x: to_categorical(x, num_classes=len(human_vocab)), source)))\n",
    "    source = source.reshape((1, ) + source.shape)\n",
    "    prediction = mod.predict([source, s0, c0])\n",
    "    prediction = np.argmax(prediction, axis = -1)\n",
    "    output = [inv_machine_vocab[int(i)] for i in prediction]\n",
    "    \n",
    "    print(\"source:\", example)\n",
    "    print(\"output:\", ''.join(output))"
   ]
  },
  {
   "cell_type": "markdown",
   "metadata": {},
   "source": [
    "Finally we save the model to be converted and used by our Frontend component using [TensorFlow.js](https://js.tensorflow.org/)"
   ]
  },
  {
   "cell_type": "code",
   "execution_count": 27,
   "metadata": {},
   "outputs": [
    {
     "name": "stderr",
     "output_type": "stream",
     "text": [
      "/usr/local/lib/python3.6/site-packages/keras/engine/network.py:872: UserWarning: Layer lstm_1 was passed non-serializable keyword arguments: {'initial_state': [<tf.Tensor 's0:0' shape=(?, 64) dtype=float32>, <tf.Tensor 'c0:0' shape=(?, 64) dtype=float32>]}. They will not be included in the serialized model (and thus will be missing at deserialization time).\n",
      "  '. They will not be included '\n",
      "/usr/local/lib/python3.6/site-packages/keras/engine/network.py:872: UserWarning: Layer lstm_1 was passed non-serializable keyword arguments: {'initial_state': [<tf.Tensor 'lstm_1/TensorArrayReadV3:0' shape=(?, 64) dtype=float32>, <tf.Tensor 'lstm_1/while/Exit_4:0' shape=(?, 64) dtype=float32>]}. They will not be included in the serialized model (and thus will be missing at deserialization time).\n",
      "  '. They will not be included '\n",
      "/usr/local/lib/python3.6/site-packages/keras/engine/network.py:872: UserWarning: Layer lstm_1 was passed non-serializable keyword arguments: {'initial_state': [<tf.Tensor 'lstm_1_1/TensorArrayReadV3:0' shape=(?, 64) dtype=float32>, <tf.Tensor 'lstm_1_1/while/Exit_4:0' shape=(?, 64) dtype=float32>]}. They will not be included in the serialized model (and thus will be missing at deserialization time).\n",
      "  '. They will not be included '\n",
      "/usr/local/lib/python3.6/site-packages/keras/engine/network.py:872: UserWarning: Layer lstm_1 was passed non-serializable keyword arguments: {'initial_state': [<tf.Tensor 'lstm_1_2/TensorArrayReadV3:0' shape=(?, 64) dtype=float32>, <tf.Tensor 'lstm_1_2/while/Exit_4:0' shape=(?, 64) dtype=float32>]}. They will not be included in the serialized model (and thus will be missing at deserialization time).\n",
      "  '. They will not be included '\n",
      "/usr/local/lib/python3.6/site-packages/keras/engine/network.py:872: UserWarning: Layer lstm_1 was passed non-serializable keyword arguments: {'initial_state': [<tf.Tensor 'lstm_1_3/TensorArrayReadV3:0' shape=(?, 64) dtype=float32>, <tf.Tensor 'lstm_1_3/while/Exit_4:0' shape=(?, 64) dtype=float32>]}. They will not be included in the serialized model (and thus will be missing at deserialization time).\n",
      "  '. They will not be included '\n",
      "/usr/local/lib/python3.6/site-packages/keras/engine/network.py:872: UserWarning: Layer lstm_1 was passed non-serializable keyword arguments: {'initial_state': [<tf.Tensor 'lstm_1_4/TensorArrayReadV3:0' shape=(?, 64) dtype=float32>, <tf.Tensor 'lstm_1_4/while/Exit_4:0' shape=(?, 64) dtype=float32>]}. They will not be included in the serialized model (and thus will be missing at deserialization time).\n",
      "  '. They will not be included '\n",
      "/usr/local/lib/python3.6/site-packages/keras/engine/network.py:872: UserWarning: Layer lstm_1 was passed non-serializable keyword arguments: {'initial_state': [<tf.Tensor 'lstm_1_5/TensorArrayReadV3:0' shape=(?, 64) dtype=float32>, <tf.Tensor 'lstm_1_5/while/Exit_4:0' shape=(?, 64) dtype=float32>]}. They will not be included in the serialized model (and thus will be missing at deserialization time).\n",
      "  '. They will not be included '\n",
      "/usr/local/lib/python3.6/site-packages/keras/engine/network.py:872: UserWarning: Layer lstm_1 was passed non-serializable keyword arguments: {'initial_state': [<tf.Tensor 'lstm_1_6/TensorArrayReadV3:0' shape=(?, 64) dtype=float32>, <tf.Tensor 'lstm_1_6/while/Exit_4:0' shape=(?, 64) dtype=float32>]}. They will not be included in the serialized model (and thus will be missing at deserialization time).\n",
      "  '. They will not be included '\n",
      "/usr/local/lib/python3.6/site-packages/keras/engine/network.py:872: UserWarning: Layer lstm_1 was passed non-serializable keyword arguments: {'initial_state': [<tf.Tensor 'lstm_1_7/TensorArrayReadV3:0' shape=(?, 64) dtype=float32>, <tf.Tensor 'lstm_1_7/while/Exit_4:0' shape=(?, 64) dtype=float32>]}. They will not be included in the serialized model (and thus will be missing at deserialization time).\n",
      "  '. They will not be included '\n",
      "/usr/local/lib/python3.6/site-packages/keras/engine/network.py:872: UserWarning: Layer lstm_1 was passed non-serializable keyword arguments: {'initial_state': [<tf.Tensor 'lstm_1_8/TensorArrayReadV3:0' shape=(?, 64) dtype=float32>, <tf.Tensor 'lstm_1_8/while/Exit_4:0' shape=(?, 64) dtype=float32>]}. They will not be included in the serialized model (and thus will be missing at deserialization time).\n",
      "  '. They will not be included '\n"
     ]
    }
   ],
   "source": [
    "mod.save('dates_model.h5')"
   ]
  },
  {
   "cell_type": "code",
   "execution_count": null,
   "metadata": {},
   "outputs": [],
   "source": []
  }
 ],
 "metadata": {
  "kernelspec": {
   "display_name": "Python 3",
   "language": "python",
   "name": "python3"
  },
  "language_info": {
   "codemirror_mode": {
    "name": "ipython",
    "version": 3
   },
   "file_extension": ".py",
   "mimetype": "text/x-python",
   "name": "python",
   "nbconvert_exporter": "python",
   "pygments_lexer": "ipython3",
   "version": "3.6.5"
  }
 },
 "nbformat": 4,
 "nbformat_minor": 2
}
