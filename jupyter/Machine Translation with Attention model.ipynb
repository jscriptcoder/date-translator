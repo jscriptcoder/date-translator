{
 "cells": [
  {
   "cell_type": "markdown",
   "metadata": {},
   "source": [
    "# Neural Machine Translation with Attention"
   ]
  },
  {
   "cell_type": "markdown",
   "metadata": {},
   "source": [
    "If you wanna read more about this type of Machine Translation, [Wikipedia](https://en.wikipedia.org/wiki/Neural_machine_translation) is a good source.\n",
    "\n",
    "This notebook has been inspited by the Deeplearning.ai - [Sequence models course](https://www.coursera.org/learn/nlp-sequence-models) - Attention mechanism.\n",
    "\n",
    "The idea is to build a Neural Machine Translation (NMT) model to translate human readable dates (\"10th of September, 1978\") into machine readable dates (\"1978-09-10\"), using attention model.\n",
    "\n",
    "### Attention mechanism\n",
    "If you had to translate a book's paragraph from French to English, you would not read the whole paragraph, then close the book and translate. Even during the translation process, you would read/re-read and focus on the parts of the French paragraph corresponding to the parts of the English you are writing down.\n",
    "\n",
    "The attention mechanism tells a Neural Machine Translation model where it should pay attention to at any step. [Andrew Ng](http://www.andrewng.org/) explains this mechanism quite well in these tho videos: [Attention model intuition](https://www.youtube.com/watch?v=EgCPRvgltoE) and [Attention model](https://www.youtube.com/watch?v=ahZRxHaM7gU)\n",
    " \n",
    "Here is a figure to remind you how the model works. The diagram on the left shows the attention model:\n",
    "\n",
    "<table>\n",
    "    <tbody>\n",
    "        <tr>\n",
    "            <td><img src=\"attn_model.png\" style=\"height:500px\" /></td>\n",
    "            <td><img src=\"attn_mechanism.png\" style=\"height:500px\" /></td>\n",
    "        </tr>\n",
    "    </tbody>\n",
    "</table>\n",
    "\n",
    "Here are some properties of the model: \n",
    "\n",
    "- There are two separate LSTMs in this model (see diagram on the left). Because the one at the bottom of the picture is a Bi-directional LSTM and comes *before* the attention mechanism, we will call it *pre-attention* Bi-LSTM. The LSTM at the top of the diagram comes *after* the attention mechanism, so we will call it the *post-attention* LSTM. The pre-attention Bi-LSTM goes through $T_x$ time steps; the post-attention LSTM goes through $T_y$ time steps. \n",
    "\n",
    "- The post-attention LSTM passes $s^{\\langle t \\rangle}, c^{\\langle t \\rangle}$ from one time step to the next. The LSTM has both the output activation $s^{\\langle t\\rangle}$ and the hidden cell state $c^{\\langle t\\rangle}$. In this model the post-activation LSTM at time $t$ does will not take the specific generated $y^{\\langle t-1 \\rangle}$ as input; it only takes $s^{\\langle t\\rangle}$ and $c^{\\langle t\\rangle}$ as input. We have designed the model this way, because (unlike language generation where adjacent characters are highly correlated) there isn't as strong a dependency between the previous character and the next character in a YYYY-MM-DD date. \n",
    "\n",
    "- We use $a^{\\langle t \\rangle} = [\\overrightarrow{a}^{\\langle t \\rangle}; \\overleftarrow{a}^{\\langle t \\rangle}]$ to represent the concatenation of the activations of both the forward-direction and backward-directions of the pre-attention Bi-LSTM. \n",
    "\n",
    "- The diagram on the right uses a `RepeatVector` node to copy $s^{\\langle t-1 \\rangle}$'s value $T_x$ times, and then `Concatenation` to concatenate $s^{\\langle t-1 \\rangle}$ and $a^{\\langle t \\rangle}$ to compute $e^{\\langle t, t'}$, which is then passed through a softmax to compute $\\alpha^{\\langle t, t' \\rangle}$. We'll explain how to use `RepeatVector` and `Concatenation` in Keras below. \n",
    "\n",
    "Let's begin importing the necessary packages:"
   ]
  },
  {
   "cell_type": "code",
   "execution_count": 1,
   "metadata": {},
   "outputs": [
    {
     "name": "stderr",
     "output_type": "stream",
     "text": [
      "Using TensorFlow backend.\n"
     ]
    }
   ],
   "source": [
    "from keras.layers import Bidirectional, Concatenate, Permute, Dot, Input, LSTM, Multiply\n",
    "from keras.layers import RepeatVector, Dense, Activation, Lambda\n",
    "from keras.optimizers import Adam\n",
    "from keras.utils import to_categorical\n",
    "from keras.models import load_model, Model\n",
    "import keras.backend as K\n",
    "import numpy as np\n",
    "from faker import Faker\n",
    "import random\n",
    "from tqdm import tqdm\n",
    "from babel.dates import format_date\n",
    "import matplotlib.pyplot as plt\n",
    "%matplotlib inline"
   ]
  },
  {
   "cell_type": "markdown",
   "metadata": {},
   "source": [
    "Following we'll use [Faker](https://pypi.org/project/Faker/) to generate our own dataset of human readable date with their iso format (machine readable date) as labels."
   ]
  },
  {
   "cell_type": "code",
   "execution_count": 2,
   "metadata": {},
   "outputs": [],
   "source": [
    "fake = Faker()\n",
    "\n",
    "# We need to seed these guys. For some reason I always use 101\n",
    "fake.seed(101)\n",
    "random.seed(101)"
   ]
  },
  {
   "cell_type": "markdown",
   "metadata": {},
   "source": [
    "We're gonna generate a dataset with different formats. In this case I'm giving more chances to the full format, since it's the most used one."
   ]
  },
  {
   "cell_type": "code",
   "execution_count": 3,
   "metadata": {},
   "outputs": [],
   "source": [
    "FORMATS = ['short',\n",
    "           'medium',\n",
    "           'long',\n",
    "           'full',\n",
    "           'full',\n",
    "           'full',\n",
    "           'full',\n",
    "           'full',\n",
    "           'full',\n",
    "           'd MMM YYY', \n",
    "           'd MMMM YYY',\n",
    "           'dd MMM YYY',\n",
    "           'd MMM, YYY',\n",
    "           'd MMMM, YYY',\n",
    "           'dd, MMM YYY',\n",
    "           'd MM YY',\n",
    "           'd MMMM YYY',\n",
    "           'MMMM d YYY',\n",
    "           'MMMM d, YYY',\n",
    "           'dd.MM.YY',\n",
    "           'd.MM.YY',\n",
    "           'dd.MM.YYY',\n",
    "           'dd/MM/YYY',\n",
    "           'd-MM-YY',\n",
    "           'dd-MM-YYY',\n",
    "           'E d, MM YY',\n",
    "           'EE d, MM YYY',\n",
    "           'EEEE d, MM YY',\n",
    "           'EEEE dd, MMMM YYY',\n",
    "           'E dd, MMMM YYY']"
   ]
  },
  {
   "cell_type": "markdown",
   "metadata": {},
   "source": [
    "Let's have a look at those formats:"
   ]
  },
  {
   "cell_type": "code",
   "execution_count": 4,
   "metadata": {},
   "outputs": [
    {
     "name": "stdout",
     "output_type": "stream",
     "text": [
      "7/19/09\n",
      "Apr 3, 1983\n",
      "September 11, 2006\n",
      "Sunday, May 29, 1994\n",
      "Monday, October 15, 2001\n",
      "Friday, April 20, 1973\n",
      "Tuesday, February 24, 2015\n",
      "Wednesday, April 7, 2004\n",
      "Monday, August 6, 1984\n",
      "20 Dec 2010\n",
      "1 February 1985\n",
      "20 Aug 1989\n",
      "14 Jan, 2003\n",
      "13 February, 2017\n",
      "14, Jun 1984\n",
      "23 05 92\n",
      "22 October 1999\n",
      "October 15 1974\n",
      "May 16, 1987\n",
      "26.02.83\n",
      "17.12.80\n",
      "18.01.1976\n",
      "18/04/2000\n",
      "26-07-06\n",
      "10-12-1994\n",
      "Sat 15, 01 83\n",
      "Tue 5, 02 2002\n",
      "Monday 9, 03 92\n",
      "Wednesday 02, April 1986\n",
      "Sat 18, May 2013\n"
     ]
    }
   ],
   "source": [
    "for format in FORMATS:\n",
    "    print(format_date(fake.date_object(), format=format, locale='en'))"
   ]
  },
  {
   "cell_type": "markdown",
   "metadata": {},
   "source": [
    "`random_date()` will generate a random date using a random format picked from our list `FORMATS` defined before. It'll return a tuple with the human and machine readable date plus the date object:"
   ]
  },
  {
   "cell_type": "code",
   "execution_count": 5,
   "metadata": {},
   "outputs": [],
   "source": [
    "def random_date():\n",
    "    dt = fake.date_object()\n",
    "\n",
    "    try:\n",
    "        date = format_date(dt, format=random.choice(FORMATS), locale='en')\n",
    "        human_readable = date.lower().replace(',', '')\n",
    "        machine_readable = dt.isoformat()\n",
    "\n",
    "    except AttributeError as e:\n",
    "        return None, None, None\n",
    "\n",
    "    return human_readable, machine_readable, dt"
   ]
  },
  {
   "cell_type": "markdown",
   "metadata": {},
   "source": [
    "`create_dataset(m)` will generate our dataset, taking `m` as the number of samples to create. It returns the `dataset` as a list, two dictionaries mapping index to character (these are our vocabularies), `human` and `machine`, and the inverse mapping, `inv_machine`, chars to index:"
   ]
  },
  {
   "cell_type": "code",
   "execution_count": 6,
   "metadata": {},
   "outputs": [],
   "source": [
    "def create_dataset(m):\n",
    "    human_vocab = set()\n",
    "    machine_vocab = set()\n",
    "    dataset = []\n",
    "    \n",
    "    for i in tqdm(range(m)):\n",
    "        h, m, _ = random_date()\n",
    "        if h is not None:\n",
    "            dataset.append((h, m))\n",
    "            human_vocab.update(tuple(h))\n",
    "            machine_vocab.update(tuple(m))\n",
    "    \n",
    "    # We also add two special chars, <unk> for unknown characters, and <pad> to add padding at the end\n",
    "    human = dict(zip(sorted(human_vocab) + ['<unk>', '<pad>'], list(range(len(human_vocab) + 2))))\n",
    "    inv_machine = dict(enumerate(sorted(machine_vocab)))\n",
    "    machine = {v: k for k, v in inv_machine.items()}\n",
    " \n",
    "    return dataset, human, machine, inv_machine"
   ]
  },
  {
   "cell_type": "markdown",
   "metadata": {},
   "source": [
    "Let's go easy and generate a dataset with 20k samples. That should do a good job:"
   ]
  },
  {
   "cell_type": "code",
   "execution_count": 7,
   "metadata": {},
   "outputs": [
    {
     "name": "stderr",
     "output_type": "stream",
     "text": [
      "100%|██████████| 20000/20000 [00:01<00:00, 15866.68it/s]\n"
     ]
    }
   ],
   "source": [
    "m = 20000\n",
    "dataset, human_vocab, machine_vocab, inv_machine_vocab = create_dataset(m)"
   ]
  },
  {
   "cell_type": "markdown",
   "metadata": {},
   "source": [
    "Inspecting the first 10 entries. Remember it contains a list of tuples => (human readable, machine readable):"
   ]
  },
  {
   "cell_type": "code",
   "execution_count": 8,
   "metadata": {},
   "outputs": [
    {
     "data": {
      "text/plain": [
       "[('june 26 1997', '1997-06-26'),\n",
       " ('sunday 27 09 98', '1998-09-27'),\n",
       " ('sunday march 4 1984', '1984-03-04'),\n",
       " ('sat 13 april 1974', '1974-04-13'),\n",
       " ('april 10 1999', '1999-04-10'),\n",
       " ('tue 30 october 2001', '2001-10-30'),\n",
       " ('16 sep 1990', '1990-09-16'),\n",
       " ('30 may 1984', '1984-05-30'),\n",
       " ('jul 16 1977', '1977-07-16'),\n",
       " ('22.05.2014', '2014-05-22')]"
      ]
     },
     "execution_count": 8,
     "metadata": {},
     "output_type": "execute_result"
    }
   ],
   "source": [
    "dataset[:10]"
   ]
  },
  {
   "cell_type": "markdown",
   "metadata": {},
   "source": [
    "Let's have a look at our human readable vocabulary:"
   ]
  },
  {
   "cell_type": "code",
   "execution_count": 9,
   "metadata": {},
   "outputs": [
    {
     "data": {
      "text/plain": [
       "{' ': 0,\n",
       " '-': 1,\n",
       " '.': 2,\n",
       " '/': 3,\n",
       " '0': 4,\n",
       " '1': 5,\n",
       " '2': 6,\n",
       " '3': 7,\n",
       " '4': 8,\n",
       " '5': 9,\n",
       " '6': 10,\n",
       " '7': 11,\n",
       " '8': 12,\n",
       " '9': 13,\n",
       " 'a': 14,\n",
       " 'b': 15,\n",
       " 'c': 16,\n",
       " 'd': 17,\n",
       " 'e': 18,\n",
       " 'f': 19,\n",
       " 'g': 20,\n",
       " 'h': 21,\n",
       " 'i': 22,\n",
       " 'j': 23,\n",
       " 'l': 24,\n",
       " 'm': 25,\n",
       " 'n': 26,\n",
       " 'o': 27,\n",
       " 'p': 28,\n",
       " 'r': 29,\n",
       " 's': 30,\n",
       " 't': 31,\n",
       " 'u': 32,\n",
       " 'v': 33,\n",
       " 'w': 34,\n",
       " 'y': 35,\n",
       " '<unk>': 36,\n",
       " '<pad>': 37}"
      ]
     },
     "execution_count": 9,
     "metadata": {},
     "output_type": "execute_result"
    }
   ],
   "source": [
    "human_vocab"
   ]
  },
  {
   "cell_type": "markdown",
   "metadata": {},
   "source": [
    "Machine readable vocabulary:"
   ]
  },
  {
   "cell_type": "code",
   "execution_count": 10,
   "metadata": {},
   "outputs": [
    {
     "data": {
      "text/plain": [
       "{'-': 0,\n",
       " '0': 1,\n",
       " '1': 2,\n",
       " '2': 3,\n",
       " '3': 4,\n",
       " '4': 5,\n",
       " '5': 6,\n",
       " '6': 7,\n",
       " '7': 8,\n",
       " '8': 9,\n",
       " '9': 10}"
      ]
     },
     "execution_count": 10,
     "metadata": {},
     "output_type": "execute_result"
    }
   ],
   "source": [
    "machine_vocab"
   ]
  },
  {
   "cell_type": "markdown",
   "metadata": {},
   "source": [
    "... and its inverse dictionary:"
   ]
  },
  {
   "cell_type": "code",
   "execution_count": 11,
   "metadata": {},
   "outputs": [
    {
     "data": {
      "text/plain": [
       "{0: '-',\n",
       " 1: '0',\n",
       " 2: '1',\n",
       " 3: '2',\n",
       " 4: '3',\n",
       " 5: '4',\n",
       " 6: '5',\n",
       " 7: '6',\n",
       " 8: '7',\n",
       " 9: '8',\n",
       " 10: '9'}"
      ]
     },
     "execution_count": 11,
     "metadata": {},
     "output_type": "execute_result"
    }
   ],
   "source": [
    "inv_machine_vocab"
   ]
  },
  {
   "cell_type": "markdown",
   "metadata": {},
   "source": [
    "`preprocess_data(dataset, human_vocab, machine_vocab, Tx, Ty)` is gonna do some beautiful magic with our dataset. It takes the whole dataset, and both human and machine vocabularie, plus some max length arguments, and it'll spit out out training set and target labels, plus the [one hot encoding](https://hackernoon.com/what-is-one-hot-encoding-why-and-when-do-you-have-to-use-it-e3c6186d008f) of both:"
   ]
  },
  {
   "cell_type": "code",
   "execution_count": 12,
   "metadata": {},
   "outputs": [],
   "source": [
    "def preprocess_data(dataset, human_vocab, machine_vocab, Tx, Ty):\n",
    "    X, Y = zip(*dataset)\n",
    "    \n",
    "    X = np.array([string_to_int(i, Tx, human_vocab) for i in X])\n",
    "    Y = [string_to_int(t, Ty, machine_vocab) for t in Y]\n",
    "    \n",
    "    Xoh = np.array(list(map(lambda x: to_categorical(x, num_classes=len(human_vocab)), X)))\n",
    "    Yoh = np.array(list(map(lambda x: to_categorical(x, num_classes=len(machine_vocab)), Y)))\n",
    "\n",
    "    return X, np.array(Y), Xoh, Yoh"
   ]
  },
  {
   "cell_type": "markdown",
   "metadata": {},
   "source": [
    "`string_to_int(string, length, vocab)` will return a list of indexes based on a `string` and vocabulary, `vocab`, cropping or padding it depending on the max `length` passed in:"
   ]
  },
  {
   "cell_type": "code",
   "execution_count": 13,
   "metadata": {},
   "outputs": [],
   "source": [
    "def string_to_int(string, length, vocab):\n",
    "    string = string.lower()\n",
    "    string = string.replace(',','')\n",
    "    \n",
    "    if len(string) > length:\n",
    "        string = string[:length]\n",
    "        \n",
    "    rep = list(map(lambda x: vocab.get(x, '<unk>'), string))\n",
    "    \n",
    "    if len(string) < length:\n",
    "        rep += [vocab['<pad>']] * (length - len(string))\n",
    "    \n",
    "    return rep"
   ]
  },
  {
   "cell_type": "markdown",
   "metadata": {},
   "source": [
    "Let's have a look at an example. By the way, that's my birthday 😉:"
   ]
  },
  {
   "cell_type": "code",
   "execution_count": 14,
   "metadata": {},
   "outputs": [
    {
     "data": {
      "text/plain": [
       "[30,\n",
       " 18,\n",
       " 28,\n",
       " 31,\n",
       " 18,\n",
       " 25,\n",
       " 15,\n",
       " 18,\n",
       " 29,\n",
       " 0,\n",
       " 5,\n",
       " 4,\n",
       " 0,\n",
       " 5,\n",
       " 13,\n",
       " 11,\n",
       " 12,\n",
       " 37,\n",
       " 37,\n",
       " 37,\n",
       " 37,\n",
       " 37,\n",
       " 37,\n",
       " 37,\n",
       " 37,\n",
       " 37,\n",
       " 37,\n",
       " 37,\n",
       " 37,\n",
       " 37]"
      ]
     },
     "execution_count": 14,
     "metadata": {},
     "output_type": "execute_result"
    }
   ],
   "source": [
    "string_to_int('September 10, 1978', 30, human_vocab)"
   ]
  },
  {
   "cell_type": "markdown",
   "metadata": {},
   "source": [
    "Let's run the preprocessing and print out some shapes:"
   ]
  },
  {
   "cell_type": "code",
   "execution_count": 15,
   "metadata": {},
   "outputs": [
    {
     "name": "stdout",
     "output_type": "stream",
     "text": [
      "X.shape: (20000, 30)\n",
      "Y.shape: (20000, 10)\n",
      "Xoh.shape: (20000, 30, 38)\n",
      "Yoh.shape: (20000, 10, 11)\n"
     ]
    }
   ],
   "source": [
    "Tx = 30\n",
    "Ty = 10\n",
    "X, Y, Xoh, Yoh = preprocess_data(dataset, human_vocab, machine_vocab, Tx, Ty)\n",
    "\n",
    "print(\"X.shape:\", X.shape)\n",
    "print(\"Y.shape:\", Y.shape)\n",
    "print(\"Xoh.shape:\", Xoh.shape)\n",
    "print(\"Yoh.shape:\", Yoh.shape)"
   ]
  },
  {
   "cell_type": "markdown",
   "metadata": {},
   "source": [
    "... and see what a training sample, target label and their respective one hot encoding look like:"
   ]
  },
  {
   "cell_type": "code",
   "execution_count": 16,
   "metadata": {},
   "outputs": [
    {
     "name": "stdout",
     "output_type": "stream",
     "text": [
      "Source date: june 26 1997\n",
      "Target date: 1997-06-26\n",
      "\n",
      "Source after preprocessing (indices): [23 32 26 18  0  6 10  0  5 13 13 11 37 37 37 37 37 37 37 37 37 37 37 37\n",
      " 37 37 37 37 37 37]\n",
      "Target after preprocessing (indices): [ 2 10 10  8  0  1  7  0  3  7]\n",
      "\n",
      "Source after preprocessing (one-hot): [[0. 0. 0. ... 0. 0. 0.]\n",
      " [0. 0. 0. ... 0. 0. 0.]\n",
      " [0. 0. 0. ... 0. 0. 0.]\n",
      " ...\n",
      " [0. 0. 0. ... 0. 0. 1.]\n",
      " [0. 0. 0. ... 0. 0. 1.]\n",
      " [0. 0. 0. ... 0. 0. 1.]]\n",
      "Target after preprocessing (one-hot): [[0. 0. 1. 0. 0. 0. 0. 0. 0. 0. 0.]\n",
      " [0. 0. 0. 0. 0. 0. 0. 0. 0. 0. 1.]\n",
      " [0. 0. 0. 0. 0. 0. 0. 0. 0. 0. 1.]\n",
      " [0. 0. 0. 0. 0. 0. 0. 0. 1. 0. 0.]\n",
      " [1. 0. 0. 0. 0. 0. 0. 0. 0. 0. 0.]\n",
      " [0. 1. 0. 0. 0. 0. 0. 0. 0. 0. 0.]\n",
      " [0. 0. 0. 0. 0. 0. 0. 1. 0. 0. 0.]\n",
      " [1. 0. 0. 0. 0. 0. 0. 0. 0. 0. 0.]\n",
      " [0. 0. 0. 1. 0. 0. 0. 0. 0. 0. 0.]\n",
      " [0. 0. 0. 0. 0. 0. 0. 1. 0. 0. 0.]]\n"
     ]
    }
   ],
   "source": [
    "index = 0\n",
    "print(\"Source date:\", dataset[index][0])\n",
    "print(\"Target date:\", dataset[index][1])\n",
    "print()\n",
    "print(\"Source after preprocessing (indices):\", X[index])\n",
    "print(\"Target after preprocessing (indices):\", Y[index])\n",
    "print()\n",
    "print(\"Source after preprocessing (one-hot):\", Xoh[index])\n",
    "print(\"Target after preprocessing (one-hot):\", Yoh[index])"
   ]
  },
  {
   "cell_type": "markdown",
   "metadata": {},
   "source": [
    "This is what we have now:\n",
    "\n",
    "- **X**: a processed version of the human readable dates in the training set, where each character is replaced by an index mapped to the character via human_vocab. Each date is further padded to `Tx` values with a special character `<pad>`. `X.shape = (m, Tx)`\n",
    "\n",
    "- **Y**: a processed version of the machine readable dates in the training set, where each character is replaced by the index it is mapped to in machine_vocab. You should have `Y.shape = (m, Ty)`.\n",
    "\n",
    "- **Xoh**: one-hot version of X, the \"1\" entry's index is mapped to the character thanks to human_vocab. `Xoh.shape = (m, Tx, len(human_vocab))`.\n",
    "\n",
    "- **Yoh**: one-hot version of Y, the \"1\" entry's index is mapped to the character thanks to machine_vocab. `Yoh.shape = (m, Tx, len(machine_vocab))`. Here, `len(machine_vocab) = 11` since there are 11 characters ('-' as well as 0-9).\n",
    "\n",
    "Let's define some layers we need as global variables. [RepeatVector()](https://keras.io/layers/core/#repeatvector), [Concatenate()](https://keras.io/layers/merge/#concatenate), [Dense()](https://keras.io/layers/core/#dense), [Activation()](https://keras.io/layers/core/#activation), [Dot()](https://keras.io/layers/merge/#dot)"
   ]
  },
  {
   "cell_type": "code",
   "execution_count": 17,
   "metadata": {},
   "outputs": [],
   "source": [
    "repeator = RepeatVector(Tx)\n",
    "concatenator = Concatenate(axis=-1)\n",
    "densor1 = Dense(10, activation = \"tanh\")\n",
    "densor2 = Dense(1, activation = \"relu\")\n",
    "activator = Activation('softmax', name='attention_weights')\n",
    "dotor = Dot(axes = 1)"
   ]
  },
  {
   "cell_type": "markdown",
   "metadata": {},
   "source": [
    "`one_step_attention(a, s_prev)`: At step $t$, given all the hidden states of the Bi-LSTM ($[a^{<1>},a^{<2>}, ..., a^{<T_x>}]$) and the previous hidden state of the second LSTM ($s^{<t-1>}$), `one_step_attention()` will compute the attention weights ($[\\alpha^{<t,1>},\\alpha^{<t,2>}, ..., \\alpha^{<t,T_x>}]$) and output the context vector:\n",
    "$$context^{<t>} = \\sum_{t' = 0}^{T_x} \\alpha^{<t,t'>}a^{<t'>}\\tag{1}$$"
   ]
  },
  {
   "cell_type": "code",
   "execution_count": 18,
   "metadata": {},
   "outputs": [],
   "source": [
    "def one_step_attention(a, s_prev):\n",
    "    s_prev = repeator(s_prev)\n",
    "    concat = concatenator([a, s_prev])\n",
    "    e = densor1(concat)\n",
    "    energies = densor2(e)\n",
    "    alphas = activator(energies)\n",
    "    context = dotor([alphas, a])\n",
    "    \n",
    "    return context"
   ]
  },
  {
   "cell_type": "code",
   "execution_count": 19,
   "metadata": {},
   "outputs": [],
   "source": [
    "n_a = 32\n",
    "n_s = 64\n",
    "post_activation_LSTM_cell = LSTM(n_s, return_state = True)\n",
    "output_layer = Dense(len(machine_vocab), activation='softmax')"
   ]
  },
  {
   "cell_type": "markdown",
   "metadata": {},
   "source": [
    "`model(Tx, Ty, n_a, n_s, human_vocab_size, machine_vocab_size)`: Implements the entire model. It first runs the input through a Bi-LSTM to get back $[a^{<1>},a^{<2>}, ..., a^{<T_x>}]$. Then, it calls `one_step_attention()` $T_y$ times (`for` loop). At each iteration of this loop, it gives the computed context vector $c^{<t>}$ to the second LSTM, and runs the output of the LSTM through a dense layer with softmax activation to generate a prediction $\\hat{y}^{<t>}$. "
   ]
  },
  {
   "cell_type": "code",
   "execution_count": 20,
   "metadata": {},
   "outputs": [],
   "source": [
    "def model(Tx, Ty, n_a, n_s, human_vocab_size, machine_vocab_size):\n",
    "    X = Input(shape=(Tx, human_vocab_size))\n",
    "    s0 = Input(shape=(n_s,), name='s0')\n",
    "    c0 = Input(shape=(n_s,), name='c0')\n",
    "    s = s0\n",
    "    c = c0\n",
    "    \n",
    "    outputs = []\n",
    "    \n",
    "    a = Bidirectional(LSTM(n_a, return_sequences = True))(X)\n",
    "    \n",
    "    for t in range(Ty):\n",
    "        context = one_step_attention(a, s)\n",
    "        s, _, c = post_activation_LSTM_cell(context, initial_state=[s, c])\n",
    "        out = output_layer(s)\n",
    "        outputs.append(out)\n",
    "    \n",
    "    model = Model([X, s0, c0], outputs)\n",
    "    return model"
   ]
  },
  {
   "cell_type": "markdown",
   "metadata": {},
   "source": [
    "Model instantiation and summary representation of the model:"
   ]
  },
  {
   "cell_type": "code",
   "execution_count": 21,
   "metadata": {},
   "outputs": [],
   "source": [
    "mod = model(Tx, Ty, n_a, n_s, len(human_vocab), len(machine_vocab))"
   ]
  },
  {
   "cell_type": "code",
   "execution_count": 22,
   "metadata": {},
   "outputs": [
    {
     "name": "stdout",
     "output_type": "stream",
     "text": [
      "__________________________________________________________________________________________________\n",
      "Layer (type)                    Output Shape         Param #     Connected to                     \n",
      "==================================================================================================\n",
      "input_1 (InputLayer)            (None, 30, 38)       0                                            \n",
      "__________________________________________________________________________________________________\n",
      "s0 (InputLayer)                 (None, 64)           0                                            \n",
      "__________________________________________________________________________________________________\n",
      "bidirectional_1 (Bidirectional) (None, 30, 64)       18176       input_1[0][0]                    \n",
      "__________________________________________________________________________________________________\n",
      "repeat_vector_1 (RepeatVector)  (None, 30, 64)       0           s0[0][0]                         \n",
      "                                                                 lstm_1[0][0]                     \n",
      "                                                                 lstm_1[1][0]                     \n",
      "                                                                 lstm_1[2][0]                     \n",
      "                                                                 lstm_1[3][0]                     \n",
      "                                                                 lstm_1[4][0]                     \n",
      "                                                                 lstm_1[5][0]                     \n",
      "                                                                 lstm_1[6][0]                     \n",
      "                                                                 lstm_1[7][0]                     \n",
      "                                                                 lstm_1[8][0]                     \n",
      "__________________________________________________________________________________________________\n",
      "concatenate_1 (Concatenate)     (None, 30, 128)      0           bidirectional_1[0][0]            \n",
      "                                                                 repeat_vector_1[0][0]            \n",
      "                                                                 bidirectional_1[0][0]            \n",
      "                                                                 repeat_vector_1[1][0]            \n",
      "                                                                 bidirectional_1[0][0]            \n",
      "                                                                 repeat_vector_1[2][0]            \n",
      "                                                                 bidirectional_1[0][0]            \n",
      "                                                                 repeat_vector_1[3][0]            \n",
      "                                                                 bidirectional_1[0][0]            \n",
      "                                                                 repeat_vector_1[4][0]            \n",
      "                                                                 bidirectional_1[0][0]            \n",
      "                                                                 repeat_vector_1[5][0]            \n",
      "                                                                 bidirectional_1[0][0]            \n",
      "                                                                 repeat_vector_1[6][0]            \n",
      "                                                                 bidirectional_1[0][0]            \n",
      "                                                                 repeat_vector_1[7][0]            \n",
      "                                                                 bidirectional_1[0][0]            \n",
      "                                                                 repeat_vector_1[8][0]            \n",
      "                                                                 bidirectional_1[0][0]            \n",
      "                                                                 repeat_vector_1[9][0]            \n",
      "__________________________________________________________________________________________________\n",
      "dense_1 (Dense)                 (None, 30, 10)       1290        concatenate_1[0][0]              \n",
      "                                                                 concatenate_1[1][0]              \n",
      "                                                                 concatenate_1[2][0]              \n",
      "                                                                 concatenate_1[3][0]              \n",
      "                                                                 concatenate_1[4][0]              \n",
      "                                                                 concatenate_1[5][0]              \n",
      "                                                                 concatenate_1[6][0]              \n",
      "                                                                 concatenate_1[7][0]              \n",
      "                                                                 concatenate_1[8][0]              \n",
      "                                                                 concatenate_1[9][0]              \n",
      "__________________________________________________________________________________________________\n",
      "dense_2 (Dense)                 (None, 30, 1)        11          dense_1[0][0]                    \n",
      "                                                                 dense_1[1][0]                    \n",
      "                                                                 dense_1[2][0]                    \n",
      "                                                                 dense_1[3][0]                    \n",
      "                                                                 dense_1[4][0]                    \n",
      "                                                                 dense_1[5][0]                    \n",
      "                                                                 dense_1[6][0]                    \n",
      "                                                                 dense_1[7][0]                    \n",
      "                                                                 dense_1[8][0]                    \n",
      "                                                                 dense_1[9][0]                    \n",
      "__________________________________________________________________________________________________\n",
      "attention_weights (Activation)  (None, 30, 1)        0           dense_2[0][0]                    \n",
      "                                                                 dense_2[1][0]                    \n",
      "                                                                 dense_2[2][0]                    \n",
      "                                                                 dense_2[3][0]                    \n",
      "                                                                 dense_2[4][0]                    \n",
      "                                                                 dense_2[5][0]                    \n",
      "                                                                 dense_2[6][0]                    \n",
      "                                                                 dense_2[7][0]                    \n",
      "                                                                 dense_2[8][0]                    \n",
      "                                                                 dense_2[9][0]                    \n",
      "__________________________________________________________________________________________________\n",
      "dot_1 (Dot)                     (None, 1, 64)        0           attention_weights[0][0]          \n",
      "                                                                 bidirectional_1[0][0]            \n",
      "                                                                 attention_weights[1][0]          \n",
      "                                                                 bidirectional_1[0][0]            \n",
      "                                                                 attention_weights[2][0]          \n",
      "                                                                 bidirectional_1[0][0]            \n",
      "                                                                 attention_weights[3][0]          \n",
      "                                                                 bidirectional_1[0][0]            \n",
      "                                                                 attention_weights[4][0]          \n",
      "                                                                 bidirectional_1[0][0]            \n",
      "                                                                 attention_weights[5][0]          \n",
      "                                                                 bidirectional_1[0][0]            \n",
      "                                                                 attention_weights[6][0]          \n",
      "                                                                 bidirectional_1[0][0]            \n",
      "                                                                 attention_weights[7][0]          \n",
      "                                                                 bidirectional_1[0][0]            \n",
      "                                                                 attention_weights[8][0]          \n",
      "                                                                 bidirectional_1[0][0]            \n",
      "                                                                 attention_weights[9][0]          \n",
      "                                                                 bidirectional_1[0][0]            \n",
      "__________________________________________________________________________________________________\n",
      "c0 (InputLayer)                 (None, 64)           0                                            \n",
      "__________________________________________________________________________________________________\n",
      "lstm_1 (LSTM)                   [(None, 64), (None,  33024       dot_1[0][0]                      \n",
      "                                                                 s0[0][0]                         \n",
      "                                                                 c0[0][0]                         \n",
      "                                                                 dot_1[1][0]                      \n",
      "                                                                 lstm_1[0][0]                     \n",
      "                                                                 lstm_1[0][2]                     \n",
      "                                                                 dot_1[2][0]                      \n",
      "                                                                 lstm_1[1][0]                     \n",
      "                                                                 lstm_1[1][2]                     \n",
      "                                                                 dot_1[3][0]                      \n",
      "                                                                 lstm_1[2][0]                     \n",
      "                                                                 lstm_1[2][2]                     \n",
      "                                                                 dot_1[4][0]                      \n",
      "                                                                 lstm_1[3][0]                     \n",
      "                                                                 lstm_1[3][2]                     \n",
      "                                                                 dot_1[5][0]                      \n",
      "                                                                 lstm_1[4][0]                     \n",
      "                                                                 lstm_1[4][2]                     \n",
      "                                                                 dot_1[6][0]                      \n",
      "                                                                 lstm_1[5][0]                     \n",
      "                                                                 lstm_1[5][2]                     \n",
      "                                                                 dot_1[7][0]                      \n",
      "                                                                 lstm_1[6][0]                     \n",
      "                                                                 lstm_1[6][2]                     \n",
      "                                                                 dot_1[8][0]                      \n",
      "                                                                 lstm_1[7][0]                     \n",
      "                                                                 lstm_1[7][2]                     \n",
      "                                                                 dot_1[9][0]                      \n",
      "                                                                 lstm_1[8][0]                     \n",
      "                                                                 lstm_1[8][2]                     \n",
      "__________________________________________________________________________________________________\n",
      "dense_3 (Dense)                 (None, 11)           715         lstm_1[0][0]                     \n",
      "                                                                 lstm_1[1][0]                     \n",
      "                                                                 lstm_1[2][0]                     \n",
      "                                                                 lstm_1[3][0]                     \n",
      "                                                                 lstm_1[4][0]                     \n",
      "                                                                 lstm_1[5][0]                     \n",
      "                                                                 lstm_1[6][0]                     \n",
      "                                                                 lstm_1[7][0]                     \n",
      "                                                                 lstm_1[8][0]                     \n",
      "                                                                 lstm_1[9][0]                     \n",
      "==================================================================================================\n",
      "Total params: 53,216\n",
      "Trainable params: 53,216\n",
      "Non-trainable params: 0\n",
      "__________________________________________________________________________________________________\n"
     ]
    }
   ],
   "source": [
    "mod.summary()"
   ]
  },
  {
   "cell_type": "markdown",
   "metadata": {},
   "source": [
    "Using [Adam optimizer](https://machinelearningmastery.com/adam-optimization-algorithm-for-deep-learning/) we proceed to compile our model and train it:"
   ]
  },
  {
   "cell_type": "code",
   "execution_count": 23,
   "metadata": {},
   "outputs": [],
   "source": [
    "opt = Adam(lr=0.005, beta_1=0.9, beta_2=0.999, decay=0.01)\n",
    "mod.compile(optimizer=opt, loss='categorical_crossentropy', metrics=['accuracy'])"
   ]
  },
  {
   "cell_type": "code",
   "execution_count": 24,
   "metadata": {},
   "outputs": [],
   "source": [
    "s0 = np.zeros((m, n_s))\n",
    "c0 = np.zeros((m, n_s))\n",
    "outputs = list(Yoh.swapaxes(0,1))"
   ]
  },
  {
   "cell_type": "code",
   "execution_count": 25,
   "metadata": {},
   "outputs": [
    {
     "name": "stdout",
     "output_type": "stream",
     "text": [
      "WARNING:tensorflow:Variable *= will be deprecated. Use variable.assign_mul if you want assignment to the variable value or 'x = x * y' if you want a new python Tensor object.\n",
      "Epoch 1/30\n",
      "20000/20000 [==============================] - 37s 2ms/step - loss: 11.6770 - dense_3_loss: 2.0225 - dense_3_acc: 0.8959 - dense_3_acc_1: 0.8690 - dense_3_acc_2: 0.6423 - dense_3_acc_3: 0.2994 - dense_3_acc_4: 0.8807 - dense_3_acc_5: 0.5117 - dense_3_acc_6: 0.2444 - dense_3_acc_7: 0.7727 - dense_3_acc_8: 0.4350 - dense_3_acc_9: 0.2620\n",
      "Epoch 2/30\n",
      "20000/20000 [==============================] - 30s 2ms/step - loss: 5.3248 - dense_3_loss: 1.3201 - dense_3_acc: 0.9646 - dense_3_acc_1: 0.9661 - dense_3_acc_2: 0.8411 - dense_3_acc_3: 0.6264 - dense_3_acc_4: 0.9999 - dense_3_acc_5: 0.8954 - dense_3_acc_6: 0.5554 - dense_3_acc_7: 0.9999 - dense_3_acc_8: 0.6829 - dense_3_acc_9: 0.4693\n",
      "Epoch 3/30\n",
      "20000/20000 [==============================] - 30s 2ms/step - loss: 3.8296 - dense_3_loss: 0.9721 - dense_3_acc: 0.9716 - dense_3_acc_1: 0.9721 - dense_3_acc_2: 0.8667 - dense_3_acc_3: 0.8179 - dense_3_acc_4: 0.9999 - dense_3_acc_5: 0.9274 - dense_3_acc_6: 0.6596 - dense_3_acc_7: 0.9998 - dense_3_acc_8: 0.7603 - dense_3_acc_9: 0.6289\n",
      "Epoch 4/30\n",
      "20000/20000 [==============================] - 30s 2ms/step - loss: 2.9888 - dense_3_loss: 0.7468 - dense_3_acc: 0.9762 - dense_3_acc_1: 0.9768 - dense_3_acc_2: 0.8754 - dense_3_acc_3: 0.8935 - dense_3_acc_4: 1.0000 - dense_3_acc_5: 0.9387 - dense_3_acc_6: 0.7342 - dense_3_acc_7: 0.9999 - dense_3_acc_8: 0.7953 - dense_3_acc_9: 0.7260\n",
      "Epoch 5/30\n",
      "20000/20000 [==============================] - 30s 2ms/step - loss: 2.4959 - dense_3_loss: 0.6055 - dense_3_acc: 0.9787 - dense_3_acc_1: 0.9794 - dense_3_acc_2: 0.8838 - dense_3_acc_3: 0.9167 - dense_3_acc_4: 1.0000 - dense_3_acc_5: 0.9464 - dense_3_acc_6: 0.7866 - dense_3_acc_7: 1.0000 - dense_3_acc_8: 0.8209 - dense_3_acc_9: 0.7853\n",
      "Epoch 6/30\n",
      "20000/20000 [==============================] - 30s 2ms/step - loss: 2.1701 - dense_3_loss: 0.5221 - dense_3_acc: 0.9825 - dense_3_acc_1: 0.9828 - dense_3_acc_2: 0.8962 - dense_3_acc_3: 0.9274 - dense_3_acc_4: 0.9999 - dense_3_acc_5: 0.9521 - dense_3_acc_6: 0.8253 - dense_3_acc_7: 1.0000 - dense_3_acc_8: 0.8409 - dense_3_acc_9: 0.8135\n",
      "Epoch 7/30\n",
      "20000/20000 [==============================] - 30s 2ms/step - loss: 1.9505 - dense_3_loss: 0.4688 - dense_3_acc: 0.9848 - dense_3_acc_1: 0.9860 - dense_3_acc_2: 0.9036 - dense_3_acc_3: 0.9348 - dense_3_acc_4: 1.0000 - dense_3_acc_5: 0.9560 - dense_3_acc_6: 0.8474 - dense_3_acc_7: 1.0000 - dense_3_acc_8: 0.8585 - dense_3_acc_9: 0.8317\n",
      "Epoch 8/30\n",
      "20000/20000 [==============================] - 30s 2ms/step - loss: 1.7617 - dense_3_loss: 0.4254 - dense_3_acc: 0.9880 - dense_3_acc_1: 0.9887 - dense_3_acc_2: 0.9151 - dense_3_acc_3: 0.9422 - dense_3_acc_4: 1.0000 - dense_3_acc_5: 0.9593 - dense_3_acc_6: 0.8669 - dense_3_acc_7: 1.0000 - dense_3_acc_8: 0.8707 - dense_3_acc_9: 0.8459\n",
      "Epoch 9/30\n",
      "20000/20000 [==============================] - 30s 2ms/step - loss: 1.6194 - dense_3_loss: 0.3907 - dense_3_acc: 0.9899 - dense_3_acc_1: 0.9908 - dense_3_acc_2: 0.9192 - dense_3_acc_3: 0.9484 - dense_3_acc_4: 1.0000 - dense_3_acc_5: 0.9610 - dense_3_acc_6: 0.8798 - dense_3_acc_7: 0.9999 - dense_3_acc_8: 0.8821 - dense_3_acc_9: 0.8574\n",
      "Epoch 10/30\n",
      "20000/20000 [==============================] - 30s 2ms/step - loss: 1.5033 - dense_3_loss: 0.3675 - dense_3_acc: 0.9918 - dense_3_acc_1: 0.9923 - dense_3_acc_2: 0.9275 - dense_3_acc_3: 0.9537 - dense_3_acc_4: 1.0000 - dense_3_acc_5: 0.9625 - dense_3_acc_6: 0.8906 - dense_3_acc_7: 1.0000 - dense_3_acc_8: 0.8911 - dense_3_acc_9: 0.8657\n",
      "Epoch 11/30\n",
      "20000/20000 [==============================] - 30s 2ms/step - loss: 1.4046 - dense_3_loss: 0.3450 - dense_3_acc: 0.9921 - dense_3_acc_1: 0.9935 - dense_3_acc_2: 0.9335 - dense_3_acc_3: 0.9589 - dense_3_acc_4: 1.0000 - dense_3_acc_5: 0.9625 - dense_3_acc_6: 0.8989 - dense_3_acc_7: 1.0000 - dense_3_acc_8: 0.8984 - dense_3_acc_9: 0.8748\n",
      "Epoch 12/30\n",
      "20000/20000 [==============================] - 30s 2ms/step - loss: 1.3208 - dense_3_loss: 0.3294 - dense_3_acc: 0.9936 - dense_3_acc_1: 0.9941 - dense_3_acc_2: 0.9399 - dense_3_acc_3: 0.9635 - dense_3_acc_4: 1.0000 - dense_3_acc_5: 0.9643 - dense_3_acc_6: 0.9071 - dense_3_acc_7: 1.0000 - dense_3_acc_8: 0.9054 - dense_3_acc_9: 0.8794\n",
      "Epoch 13/30\n",
      "20000/20000 [==============================] - 30s 2ms/step - loss: 1.2455 - dense_3_loss: 0.3128 - dense_3_acc: 0.9940 - dense_3_acc_1: 0.9944 - dense_3_acc_2: 0.9446 - dense_3_acc_3: 0.9667 - dense_3_acc_4: 1.0000 - dense_3_acc_5: 0.9652 - dense_3_acc_6: 0.9131 - dense_3_acc_7: 1.0000 - dense_3_acc_8: 0.9135 - dense_3_acc_9: 0.8861\n",
      "Epoch 14/30\n",
      "20000/20000 [==============================] - 30s 2ms/step - loss: 1.1795 - dense_3_loss: 0.3004 - dense_3_acc: 0.9944 - dense_3_acc_1: 0.9955 - dense_3_acc_2: 0.9523 - dense_3_acc_3: 0.9719 - dense_3_acc_4: 1.0000 - dense_3_acc_5: 0.9656 - dense_3_acc_6: 0.9171 - dense_3_acc_7: 1.0000 - dense_3_acc_8: 0.9181 - dense_3_acc_9: 0.8906\n",
      "Epoch 15/30\n",
      "20000/20000 [==============================] - 30s 2ms/step - loss: 1.1192 - dense_3_loss: 0.2879 - dense_3_acc: 0.9950 - dense_3_acc_1: 0.9956 - dense_3_acc_2: 0.9567 - dense_3_acc_3: 0.9754 - dense_3_acc_4: 1.0000 - dense_3_acc_5: 0.9666 - dense_3_acc_6: 0.9219 - dense_3_acc_7: 1.0000 - dense_3_acc_8: 0.9238 - dense_3_acc_9: 0.8955\n",
      "Epoch 16/30\n",
      "20000/20000 [==============================] - 30s 2ms/step - loss: 1.0678 - dense_3_loss: 0.2787 - dense_3_acc: 0.9951 - dense_3_acc_1: 0.9959 - dense_3_acc_2: 0.9617 - dense_3_acc_3: 0.9788 - dense_3_acc_4: 1.0000 - dense_3_acc_5: 0.9671 - dense_3_acc_6: 0.9253 - dense_3_acc_7: 1.0000 - dense_3_acc_8: 0.9275 - dense_3_acc_9: 0.8987\n",
      "Epoch 17/30\n",
      "20000/20000 [==============================] - 30s 2ms/step - loss: 1.0145 - dense_3_loss: 0.2680 - dense_3_acc: 0.9956 - dense_3_acc_1: 0.9961 - dense_3_acc_2: 0.9671 - dense_3_acc_3: 0.9823 - dense_3_acc_4: 1.0000 - dense_3_acc_5: 0.9684 - dense_3_acc_6: 0.9282 - dense_3_acc_7: 1.0000 - dense_3_acc_8: 0.9324 - dense_3_acc_9: 0.9024\n",
      "Epoch 18/30\n",
      "20000/20000 [==============================] - 30s 2ms/step - loss: 0.9656 - dense_3_loss: 0.2588 - dense_3_acc: 0.9957 - dense_3_acc_1: 0.9966 - dense_3_acc_2: 0.9706 - dense_3_acc_3: 0.9850 - dense_3_acc_4: 1.0000 - dense_3_acc_5: 0.9688 - dense_3_acc_6: 0.9310 - dense_3_acc_7: 1.0000 - dense_3_acc_8: 0.9396 - dense_3_acc_9: 0.9067\n",
      "Epoch 19/30\n",
      "20000/20000 [==============================] - 30s 2ms/step - loss: 0.9269 - dense_3_loss: 0.2509 - dense_3_acc: 0.9962 - dense_3_acc_1: 0.9969 - dense_3_acc_2: 0.9744 - dense_3_acc_3: 0.9883 - dense_3_acc_4: 1.0000 - dense_3_acc_5: 0.9690 - dense_3_acc_6: 0.9345 - dense_3_acc_7: 1.0000 - dense_3_acc_8: 0.9411 - dense_3_acc_9: 0.9092\n",
      "Epoch 20/30\n",
      "20000/20000 [==============================] - 30s 2ms/step - loss: 0.8842 - dense_3_loss: 0.2428 - dense_3_acc: 0.9967 - dense_3_acc_1: 0.9973 - dense_3_acc_2: 0.9778 - dense_3_acc_3: 0.9899 - dense_3_acc_4: 1.0000 - dense_3_acc_5: 0.9693 - dense_3_acc_6: 0.9363 - dense_3_acc_7: 1.0000 - dense_3_acc_8: 0.9467 - dense_3_acc_9: 0.9132\n",
      "Epoch 21/30\n",
      "20000/20000 [==============================] - 30s 2ms/step - loss: 0.8493 - dense_3_loss: 0.2360 - dense_3_acc: 0.9963 - dense_3_acc_1: 0.9976 - dense_3_acc_2: 0.9801 - dense_3_acc_3: 0.9916 - dense_3_acc_4: 1.0000 - dense_3_acc_5: 0.9704 - dense_3_acc_6: 0.9390 - dense_3_acc_7: 1.0000 - dense_3_acc_8: 0.9479 - dense_3_acc_9: 0.9148\n",
      "Epoch 22/30\n",
      "20000/20000 [==============================] - 30s 2ms/step - loss: 0.8130 - dense_3_loss: 0.2281 - dense_3_acc: 0.9970 - dense_3_acc_1: 0.9979 - dense_3_acc_2: 0.9831 - dense_3_acc_3: 0.9929 - dense_3_acc_4: 1.0000 - dense_3_acc_5: 0.9709 - dense_3_acc_6: 0.9401 - dense_3_acc_7: 1.0000 - dense_3_acc_8: 0.9518 - dense_3_acc_9: 0.9182\n",
      "Epoch 23/30\n",
      "20000/20000 [==============================] - 30s 2ms/step - loss: 0.7852 - dense_3_loss: 0.2206 - dense_3_acc: 0.9973 - dense_3_acc_1: 0.9980 - dense_3_acc_2: 0.9843 - dense_3_acc_3: 0.9940 - dense_3_acc_4: 1.0000 - dense_3_acc_5: 0.9718 - dense_3_acc_6: 0.9429 - dense_3_acc_7: 1.0000 - dense_3_acc_8: 0.9552 - dense_3_acc_9: 0.9223\n",
      "Epoch 24/30\n",
      "20000/20000 [==============================] - 30s 1ms/step - loss: 0.7534 - dense_3_loss: 0.2139 - dense_3_acc: 0.9978 - dense_3_acc_1: 0.9981 - dense_3_acc_2: 0.9865 - dense_3_acc_3: 0.9953 - dense_3_acc_4: 1.0000 - dense_3_acc_5: 0.9723 - dense_3_acc_6: 0.9436 - dense_3_acc_7: 1.0000 - dense_3_acc_8: 0.9572 - dense_3_acc_9: 0.9251\n",
      "Epoch 25/30\n",
      "20000/20000 [==============================] - 30s 1ms/step - loss: 0.7284 - dense_3_loss: 0.2089 - dense_3_acc: 0.9979 - dense_3_acc_1: 0.9983 - dense_3_acc_2: 0.9884 - dense_3_acc_3: 0.9962 - dense_3_acc_4: 1.0000 - dense_3_acc_5: 0.9731 - dense_3_acc_6: 0.9451 - dense_3_acc_7: 1.0000 - dense_3_acc_8: 0.9601 - dense_3_acc_9: 0.9273\n",
      "Epoch 26/30\n",
      "20000/20000 [==============================] - 30s 1ms/step - loss: 0.7019 - dense_3_loss: 0.2021 - dense_3_acc: 0.9979 - dense_3_acc_1: 0.9985 - dense_3_acc_2: 0.9893 - dense_3_acc_3: 0.9967 - dense_3_acc_4: 1.0000 - dense_3_acc_5: 0.9740 - dense_3_acc_6: 0.9474 - dense_3_acc_7: 1.0000 - dense_3_acc_8: 0.9617 - dense_3_acc_9: 0.9304\n",
      "Epoch 27/30\n",
      "20000/20000 [==============================] - 30s 1ms/step - loss: 0.6777 - dense_3_loss: 0.1952 - dense_3_acc: 0.9982 - dense_3_acc_1: 0.9985 - dense_3_acc_2: 0.9893 - dense_3_acc_3: 0.9973 - dense_3_acc_4: 1.0000 - dense_3_acc_5: 0.9745 - dense_3_acc_6: 0.9488 - dense_3_acc_7: 1.0000 - dense_3_acc_8: 0.9637 - dense_3_acc_9: 0.9324\n",
      "Epoch 28/30\n",
      "20000/20000 [==============================] - 30s 1ms/step - loss: 0.6568 - dense_3_loss: 0.1892 - dense_3_acc: 0.9981 - dense_3_acc_1: 0.9986 - dense_3_acc_2: 0.9904 - dense_3_acc_3: 0.9972 - dense_3_acc_4: 1.0000 - dense_3_acc_5: 0.9741 - dense_3_acc_6: 0.9484 - dense_3_acc_7: 1.0000 - dense_3_acc_8: 0.9654 - dense_3_acc_9: 0.9357\n",
      "Epoch 29/30\n",
      "20000/20000 [==============================] - 30s 1ms/step - loss: 0.6384 - dense_3_loss: 0.1851 - dense_3_acc: 0.9984 - dense_3_acc_1: 0.9988 - dense_3_acc_2: 0.9912 - dense_3_acc_3: 0.9973 - dense_3_acc_4: 1.0000 - dense_3_acc_5: 0.9749 - dense_3_acc_6: 0.9512 - dense_3_acc_7: 1.0000 - dense_3_acc_8: 0.9669 - dense_3_acc_9: 0.9378\n",
      "Epoch 30/30\n",
      "20000/20000 [==============================] - 30s 2ms/step - loss: 0.6182 - dense_3_loss: 0.1790 - dense_3_acc: 0.9983 - dense_3_acc_1: 0.9988 - dense_3_acc_2: 0.9914 - dense_3_acc_3: 0.9978 - dense_3_acc_4: 1.0000 - dense_3_acc_5: 0.9758 - dense_3_acc_6: 0.9526 - dense_3_acc_7: 1.0000 - dense_3_acc_8: 0.9690 - dense_3_acc_9: 0.9405\n"
     ]
    },
    {
     "data": {
      "text/plain": [
       "<keras.callbacks.History at 0x7f7152f05f60>"
      ]
     },
     "execution_count": 25,
     "metadata": {},
     "output_type": "execute_result"
    }
   ],
   "source": [
    "mod.fit([Xoh, s0, c0], outputs, epochs=30, batch_size=100)"
   ]
  },
  {
   "cell_type": "markdown",
   "metadata": {},
   "source": [
    "Let's make some predictions to see whether it gets them right:"
   ]
  },
  {
   "cell_type": "code",
   "execution_count": 32,
   "metadata": {},
   "outputs": [
    {
     "name": "stdout",
     "output_type": "stream",
     "text": [
      "source: 3 May 1979\n",
      "output: 1979-05-03\n",
      "source: 5 April 09\n",
      "output: 2009-04-05\n",
      "source: 21th of August 2016\n",
      "output: 2016-08-21\n",
      "source: Tue 10 Jul 2007\n",
      "output: 2007-07-10\n",
      "source: Saturday May 9 2018\n",
      "output: 2018-05-09\n",
      "source: March 3 2001\n",
      "output: 2001-03-03\n",
      "source: March 3rd 2001\n",
      "output: 2001-03-03\n",
      "source: 1 March 2001\n",
      "output: 2001-03-01\n"
     ]
    }
   ],
   "source": [
    "EXAMPLES = ['3 May 1979', '5 April 09', '21th of August 2016', 'Tue 10 Jul 2007', 'Saturday May 9 2018', 'March 3 2001', 'March 3rd 2001', '1 March 2001']\n",
    "for example in EXAMPLES:\n",
    "    \n",
    "    source = string_to_int(example, Tx, human_vocab)\n",
    "    source = np.array(list(map(lambda x: to_categorical(x, num_classes=len(human_vocab)), source)))\n",
    "    source = source.reshape((1, ) + source.shape)\n",
    "    prediction = mod.predict([source, s0, c0])\n",
    "    prediction = np.argmax(prediction, axis = -1)\n",
    "    output = [inv_machine_vocab[int(i)] for i in prediction]\n",
    "    \n",
    "    print(\"source:\", example)\n",
    "    print(\"output:\", ''.join(output))"
   ]
  },
  {
   "cell_type": "markdown",
   "metadata": {},
   "source": [
    "Finally we save the model to be converted and used by our Frontend component using [TensorFlow.js](https://js.tensorflow.org/)"
   ]
  },
  {
   "cell_type": "code",
   "execution_count": 33,
   "metadata": {},
   "outputs": [
    {
     "name": "stderr",
     "output_type": "stream",
     "text": [
      "/usr/local/lib/python3.6/site-packages/keras/engine/topology.py:2379: UserWarning: Layer lstm_1 was passed non-serializable keyword arguments: {'initial_state': [<tf.Tensor 's0:0' shape=(?, 64) dtype=float32>, <tf.Tensor 'c0:0' shape=(?, 64) dtype=float32>]}. They will not be included in the serialized model (and thus will be missing at deserialization time).\n",
      "  str(node.arguments) + '. They will not be included '\n",
      "/usr/local/lib/python3.6/site-packages/keras/engine/topology.py:2379: UserWarning: Layer lstm_1 was passed non-serializable keyword arguments: {'initial_state': [<tf.Tensor 'lstm_1/TensorArrayReadV3:0' shape=(?, 64) dtype=float32>, <tf.Tensor 'lstm_1/while/Exit_3:0' shape=(?, 64) dtype=float32>]}. They will not be included in the serialized model (and thus will be missing at deserialization time).\n",
      "  str(node.arguments) + '. They will not be included '\n",
      "/usr/local/lib/python3.6/site-packages/keras/engine/topology.py:2379: UserWarning: Layer lstm_1 was passed non-serializable keyword arguments: {'initial_state': [<tf.Tensor 'lstm_1_1/TensorArrayReadV3:0' shape=(?, 64) dtype=float32>, <tf.Tensor 'lstm_1_1/while/Exit_3:0' shape=(?, 64) dtype=float32>]}. They will not be included in the serialized model (and thus will be missing at deserialization time).\n",
      "  str(node.arguments) + '. They will not be included '\n",
      "/usr/local/lib/python3.6/site-packages/keras/engine/topology.py:2379: UserWarning: Layer lstm_1 was passed non-serializable keyword arguments: {'initial_state': [<tf.Tensor 'lstm_1_2/TensorArrayReadV3:0' shape=(?, 64) dtype=float32>, <tf.Tensor 'lstm_1_2/while/Exit_3:0' shape=(?, 64) dtype=float32>]}. They will not be included in the serialized model (and thus will be missing at deserialization time).\n",
      "  str(node.arguments) + '. They will not be included '\n",
      "/usr/local/lib/python3.6/site-packages/keras/engine/topology.py:2379: UserWarning: Layer lstm_1 was passed non-serializable keyword arguments: {'initial_state': [<tf.Tensor 'lstm_1_3/TensorArrayReadV3:0' shape=(?, 64) dtype=float32>, <tf.Tensor 'lstm_1_3/while/Exit_3:0' shape=(?, 64) dtype=float32>]}. They will not be included in the serialized model (and thus will be missing at deserialization time).\n",
      "  str(node.arguments) + '. They will not be included '\n",
      "/usr/local/lib/python3.6/site-packages/keras/engine/topology.py:2379: UserWarning: Layer lstm_1 was passed non-serializable keyword arguments: {'initial_state': [<tf.Tensor 'lstm_1_4/TensorArrayReadV3:0' shape=(?, 64) dtype=float32>, <tf.Tensor 'lstm_1_4/while/Exit_3:0' shape=(?, 64) dtype=float32>]}. They will not be included in the serialized model (and thus will be missing at deserialization time).\n",
      "  str(node.arguments) + '. They will not be included '\n",
      "/usr/local/lib/python3.6/site-packages/keras/engine/topology.py:2379: UserWarning: Layer lstm_1 was passed non-serializable keyword arguments: {'initial_state': [<tf.Tensor 'lstm_1_5/TensorArrayReadV3:0' shape=(?, 64) dtype=float32>, <tf.Tensor 'lstm_1_5/while/Exit_3:0' shape=(?, 64) dtype=float32>]}. They will not be included in the serialized model (and thus will be missing at deserialization time).\n",
      "  str(node.arguments) + '. They will not be included '\n",
      "/usr/local/lib/python3.6/site-packages/keras/engine/topology.py:2379: UserWarning: Layer lstm_1 was passed non-serializable keyword arguments: {'initial_state': [<tf.Tensor 'lstm_1_6/TensorArrayReadV3:0' shape=(?, 64) dtype=float32>, <tf.Tensor 'lstm_1_6/while/Exit_3:0' shape=(?, 64) dtype=float32>]}. They will not be included in the serialized model (and thus will be missing at deserialization time).\n",
      "  str(node.arguments) + '. They will not be included '\n",
      "/usr/local/lib/python3.6/site-packages/keras/engine/topology.py:2379: UserWarning: Layer lstm_1 was passed non-serializable keyword arguments: {'initial_state': [<tf.Tensor 'lstm_1_7/TensorArrayReadV3:0' shape=(?, 64) dtype=float32>, <tf.Tensor 'lstm_1_7/while/Exit_3:0' shape=(?, 64) dtype=float32>]}. They will not be included in the serialized model (and thus will be missing at deserialization time).\n",
      "  str(node.arguments) + '. They will not be included '\n",
      "/usr/local/lib/python3.6/site-packages/keras/engine/topology.py:2379: UserWarning: Layer lstm_1 was passed non-serializable keyword arguments: {'initial_state': [<tf.Tensor 'lstm_1_8/TensorArrayReadV3:0' shape=(?, 64) dtype=float32>, <tf.Tensor 'lstm_1_8/while/Exit_3:0' shape=(?, 64) dtype=float32>]}. They will not be included in the serialized model (and thus will be missing at deserialization time).\n",
      "  str(node.arguments) + '. They will not be included '\n"
     ]
    }
   ],
   "source": [
    "mod.save('dates_model.h5')"
   ]
  },
  {
   "cell_type": "code",
   "execution_count": null,
   "metadata": {},
   "outputs": [],
   "source": []
  }
 ],
 "metadata": {
  "kernelspec": {
   "display_name": "Python 3",
   "language": "python",
   "name": "python3"
  },
  "language_info": {
   "codemirror_mode": {
    "name": "ipython",
    "version": 3
   },
   "file_extension": ".py",
   "mimetype": "text/x-python",
   "name": "python",
   "nbconvert_exporter": "python",
   "pygments_lexer": "ipython3",
   "version": "3.7.0"
  }
 },
 "nbformat": 4,
 "nbformat_minor": 2
}
